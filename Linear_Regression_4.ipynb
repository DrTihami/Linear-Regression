{
  "nbformat": 4,
  "nbformat_minor": 0,
  "metadata": {
    "colab": {
      "provenance": [],
      "include_colab_link": true
    },
    "kernelspec": {
      "name": "python3",
      "display_name": "Python 3"
    },
    "language_info": {
      "name": "python"
    }
  },
  "cells": [
    {
      "cell_type": "markdown",
      "metadata": {
        "id": "view-in-github",
        "colab_type": "text"
      },
      "source": [
        "<a href=\"https://colab.research.google.com/github/DrTihami/Linear-Regression/blob/main/Linear_Regression_4.ipynb\" target=\"_parent\"><img src=\"https://colab.research.google.com/assets/colab-badge.svg\" alt=\"Open In Colab\"/></a>"
      ]
    },
    {
      "cell_type": "markdown",
      "source": [
        "### SKLearn and StatsModel Implementation of Linear regression"
      ],
      "metadata": {
        "id": "UdQGhov3YCyV"
      }
    },
    {
      "cell_type": "markdown",
      "source": [
        "#### Let's Download the Dataset"
      ],
      "metadata": {
        "id": "4ubhEDBmX5Sy"
      }
    },
    {
      "cell_type": "code",
      "execution_count": null,
      "metadata": {
        "colab": {
          "base_uri": "https://localhost:8080/"
        },
        "id": "_x8haSmdX2JS",
        "outputId": "c77bac1c-6853-4d85-f823-4a50a67314f5"
      },
      "outputs": [
        {
          "output_type": "stream",
          "name": "stdout",
          "text": [
            "Downloading...\n",
            "From: https://drive.google.com/uc?id=1UpLnYA48Vy_lGUMMLG-uQE1gf_Je12Lh\n",
            "To: /content/cars24-car-price-clean.csv\n",
            "100% 7.10M/7.10M [00:00<00:00, 15.8MB/s]\n"
          ]
        }
      ],
      "source": [
        "import numpy as np\n",
        "import pandas as pd\n",
        "import matplotlib.pyplot as plt\n",
        "\n",
        "\n",
        "!gdown 1UpLnYA48Vy_lGUMMLG-uQE1gf_Je12Lh"
      ]
    },
    {
      "cell_type": "code",
      "source": [
        "df = pd.read_csv('cars24-car-price-clean.csv')\n",
        "df.head()"
      ],
      "metadata": {
        "colab": {
          "base_uri": "https://localhost:8080/",
          "height": 244
        },
        "id": "OIgGQ_0OYSJU",
        "outputId": "a1e95c38-d9cd-43d0-f665-cef0ece26b9d"
      },
      "execution_count": null,
      "outputs": [
        {
          "output_type": "execute_result",
          "data": {
            "text/plain": [
              "   selling_price      year  km_driven   mileage    engine  max_power  \\\n",
              "0      -1.111046 -0.801317   1.195828  0.045745 -1.310754  -1.157780   \n",
              "1      -0.223944  0.450030  -0.737872 -0.140402 -0.537456  -0.360203   \n",
              "2      -0.915058 -1.426990   0.035608 -0.582501 -0.537456  -0.404885   \n",
              "3      -0.892365 -0.801317  -0.409143  0.329620 -0.921213  -0.693085   \n",
              "4      -0.182683  0.137194  -0.544502  0.760085  0.042999   0.010435   \n",
              "\n",
              "        age      make     model  Individual  Trustmark Dealer    Diesel  \\\n",
              "0  0.801317 -0.433854 -1.125683    1.248892         -0.098382 -0.985275   \n",
              "1 -0.450030 -0.327501 -0.333227    1.248892         -0.098382 -0.985275   \n",
              "2  1.426990 -0.327501 -0.789807    1.248892         -0.098382 -0.985275   \n",
              "3  0.801317 -0.433854 -0.905265    1.248892         -0.098382 -0.985275   \n",
              "4 -0.137194 -0.246579 -0.013096   -0.800710         -0.098382  1.014945   \n",
              "\n",
              "   Electric       LPG    Petrol    Manual         5        >5  \n",
              "0 -0.020095 -0.056917  1.024622  0.495818  0.444503 -0.424728  \n",
              "1 -0.020095 -0.056917  1.024622  0.495818  0.444503 -0.424728  \n",
              "2 -0.020095 -0.056917  1.024622  0.495818  0.444503 -0.424728  \n",
              "3 -0.020095 -0.056917  1.024622  0.495818  0.444503 -0.424728  \n",
              "4 -0.020095 -0.056917 -0.975970  0.495818  0.444503 -0.424728  "
            ],
            "text/html": [
              "\n",
              "  <div id=\"df-2953d2fd-57ec-4950-89ff-6c0ef3e4554e\" class=\"colab-df-container\">\n",
              "    <div>\n",
              "<style scoped>\n",
              "    .dataframe tbody tr th:only-of-type {\n",
              "        vertical-align: middle;\n",
              "    }\n",
              "\n",
              "    .dataframe tbody tr th {\n",
              "        vertical-align: top;\n",
              "    }\n",
              "\n",
              "    .dataframe thead th {\n",
              "        text-align: right;\n",
              "    }\n",
              "</style>\n",
              "<table border=\"1\" class=\"dataframe\">\n",
              "  <thead>\n",
              "    <tr style=\"text-align: right;\">\n",
              "      <th></th>\n",
              "      <th>selling_price</th>\n",
              "      <th>year</th>\n",
              "      <th>km_driven</th>\n",
              "      <th>mileage</th>\n",
              "      <th>engine</th>\n",
              "      <th>max_power</th>\n",
              "      <th>age</th>\n",
              "      <th>make</th>\n",
              "      <th>model</th>\n",
              "      <th>Individual</th>\n",
              "      <th>Trustmark Dealer</th>\n",
              "      <th>Diesel</th>\n",
              "      <th>Electric</th>\n",
              "      <th>LPG</th>\n",
              "      <th>Petrol</th>\n",
              "      <th>Manual</th>\n",
              "      <th>5</th>\n",
              "      <th>&gt;5</th>\n",
              "    </tr>\n",
              "  </thead>\n",
              "  <tbody>\n",
              "    <tr>\n",
              "      <th>0</th>\n",
              "      <td>-1.111046</td>\n",
              "      <td>-0.801317</td>\n",
              "      <td>1.195828</td>\n",
              "      <td>0.045745</td>\n",
              "      <td>-1.310754</td>\n",
              "      <td>-1.157780</td>\n",
              "      <td>0.801317</td>\n",
              "      <td>-0.433854</td>\n",
              "      <td>-1.125683</td>\n",
              "      <td>1.248892</td>\n",
              "      <td>-0.098382</td>\n",
              "      <td>-0.985275</td>\n",
              "      <td>-0.020095</td>\n",
              "      <td>-0.056917</td>\n",
              "      <td>1.024622</td>\n",
              "      <td>0.495818</td>\n",
              "      <td>0.444503</td>\n",
              "      <td>-0.424728</td>\n",
              "    </tr>\n",
              "    <tr>\n",
              "      <th>1</th>\n",
              "      <td>-0.223944</td>\n",
              "      <td>0.450030</td>\n",
              "      <td>-0.737872</td>\n",
              "      <td>-0.140402</td>\n",
              "      <td>-0.537456</td>\n",
              "      <td>-0.360203</td>\n",
              "      <td>-0.450030</td>\n",
              "      <td>-0.327501</td>\n",
              "      <td>-0.333227</td>\n",
              "      <td>1.248892</td>\n",
              "      <td>-0.098382</td>\n",
              "      <td>-0.985275</td>\n",
              "      <td>-0.020095</td>\n",
              "      <td>-0.056917</td>\n",
              "      <td>1.024622</td>\n",
              "      <td>0.495818</td>\n",
              "      <td>0.444503</td>\n",
              "      <td>-0.424728</td>\n",
              "    </tr>\n",
              "    <tr>\n",
              "      <th>2</th>\n",
              "      <td>-0.915058</td>\n",
              "      <td>-1.426990</td>\n",
              "      <td>0.035608</td>\n",
              "      <td>-0.582501</td>\n",
              "      <td>-0.537456</td>\n",
              "      <td>-0.404885</td>\n",
              "      <td>1.426990</td>\n",
              "      <td>-0.327501</td>\n",
              "      <td>-0.789807</td>\n",
              "      <td>1.248892</td>\n",
              "      <td>-0.098382</td>\n",
              "      <td>-0.985275</td>\n",
              "      <td>-0.020095</td>\n",
              "      <td>-0.056917</td>\n",
              "      <td>1.024622</td>\n",
              "      <td>0.495818</td>\n",
              "      <td>0.444503</td>\n",
              "      <td>-0.424728</td>\n",
              "    </tr>\n",
              "    <tr>\n",
              "      <th>3</th>\n",
              "      <td>-0.892365</td>\n",
              "      <td>-0.801317</td>\n",
              "      <td>-0.409143</td>\n",
              "      <td>0.329620</td>\n",
              "      <td>-0.921213</td>\n",
              "      <td>-0.693085</td>\n",
              "      <td>0.801317</td>\n",
              "      <td>-0.433854</td>\n",
              "      <td>-0.905265</td>\n",
              "      <td>1.248892</td>\n",
              "      <td>-0.098382</td>\n",
              "      <td>-0.985275</td>\n",
              "      <td>-0.020095</td>\n",
              "      <td>-0.056917</td>\n",
              "      <td>1.024622</td>\n",
              "      <td>0.495818</td>\n",
              "      <td>0.444503</td>\n",
              "      <td>-0.424728</td>\n",
              "    </tr>\n",
              "    <tr>\n",
              "      <th>4</th>\n",
              "      <td>-0.182683</td>\n",
              "      <td>0.137194</td>\n",
              "      <td>-0.544502</td>\n",
              "      <td>0.760085</td>\n",
              "      <td>0.042999</td>\n",
              "      <td>0.010435</td>\n",
              "      <td>-0.137194</td>\n",
              "      <td>-0.246579</td>\n",
              "      <td>-0.013096</td>\n",
              "      <td>-0.800710</td>\n",
              "      <td>-0.098382</td>\n",
              "      <td>1.014945</td>\n",
              "      <td>-0.020095</td>\n",
              "      <td>-0.056917</td>\n",
              "      <td>-0.975970</td>\n",
              "      <td>0.495818</td>\n",
              "      <td>0.444503</td>\n",
              "      <td>-0.424728</td>\n",
              "    </tr>\n",
              "  </tbody>\n",
              "</table>\n",
              "</div>\n",
              "    <div class=\"colab-df-buttons\">\n",
              "\n",
              "  <div class=\"colab-df-container\">\n",
              "    <button class=\"colab-df-convert\" onclick=\"convertToInteractive('df-2953d2fd-57ec-4950-89ff-6c0ef3e4554e')\"\n",
              "            title=\"Convert this dataframe to an interactive table.\"\n",
              "            style=\"display:none;\">\n",
              "\n",
              "  <svg xmlns=\"http://www.w3.org/2000/svg\" height=\"24px\" viewBox=\"0 -960 960 960\">\n",
              "    <path d=\"M120-120v-720h720v720H120Zm60-500h600v-160H180v160Zm220 220h160v-160H400v160Zm0 220h160v-160H400v160ZM180-400h160v-160H180v160Zm440 0h160v-160H620v160ZM180-180h160v-160H180v160Zm440 0h160v-160H620v160Z\"/>\n",
              "  </svg>\n",
              "    </button>\n",
              "\n",
              "  <style>\n",
              "    .colab-df-container {\n",
              "      display:flex;\n",
              "      gap: 12px;\n",
              "    }\n",
              "\n",
              "    .colab-df-convert {\n",
              "      background-color: #E8F0FE;\n",
              "      border: none;\n",
              "      border-radius: 50%;\n",
              "      cursor: pointer;\n",
              "      display: none;\n",
              "      fill: #1967D2;\n",
              "      height: 32px;\n",
              "      padding: 0 0 0 0;\n",
              "      width: 32px;\n",
              "    }\n",
              "\n",
              "    .colab-df-convert:hover {\n",
              "      background-color: #E2EBFA;\n",
              "      box-shadow: 0px 1px 2px rgba(60, 64, 67, 0.3), 0px 1px 3px 1px rgba(60, 64, 67, 0.15);\n",
              "      fill: #174EA6;\n",
              "    }\n",
              "\n",
              "    .colab-df-buttons div {\n",
              "      margin-bottom: 4px;\n",
              "    }\n",
              "\n",
              "    [theme=dark] .colab-df-convert {\n",
              "      background-color: #3B4455;\n",
              "      fill: #D2E3FC;\n",
              "    }\n",
              "\n",
              "    [theme=dark] .colab-df-convert:hover {\n",
              "      background-color: #434B5C;\n",
              "      box-shadow: 0px 1px 3px 1px rgba(0, 0, 0, 0.15);\n",
              "      filter: drop-shadow(0px 1px 2px rgba(0, 0, 0, 0.3));\n",
              "      fill: #FFFFFF;\n",
              "    }\n",
              "  </style>\n",
              "\n",
              "    <script>\n",
              "      const buttonEl =\n",
              "        document.querySelector('#df-2953d2fd-57ec-4950-89ff-6c0ef3e4554e button.colab-df-convert');\n",
              "      buttonEl.style.display =\n",
              "        google.colab.kernel.accessAllowed ? 'block' : 'none';\n",
              "\n",
              "      async function convertToInteractive(key) {\n",
              "        const element = document.querySelector('#df-2953d2fd-57ec-4950-89ff-6c0ef3e4554e');\n",
              "        const dataTable =\n",
              "          await google.colab.kernel.invokeFunction('convertToInteractive',\n",
              "                                                    [key], {});\n",
              "        if (!dataTable) return;\n",
              "\n",
              "        const docLinkHtml = 'Like what you see? Visit the ' +\n",
              "          '<a target=\"_blank\" href=https://colab.research.google.com/notebooks/data_table.ipynb>data table notebook</a>'\n",
              "          + ' to learn more about interactive tables.';\n",
              "        element.innerHTML = '';\n",
              "        dataTable['output_type'] = 'display_data';\n",
              "        await google.colab.output.renderOutput(dataTable, element);\n",
              "        const docLink = document.createElement('div');\n",
              "        docLink.innerHTML = docLinkHtml;\n",
              "        element.appendChild(docLink);\n",
              "      }\n",
              "    </script>\n",
              "  </div>\n",
              "\n",
              "\n",
              "<div id=\"df-7dfbd6ec-f9a9-488e-b94d-fac483e56cbe\">\n",
              "  <button class=\"colab-df-quickchart\" onclick=\"quickchart('df-7dfbd6ec-f9a9-488e-b94d-fac483e56cbe')\"\n",
              "            title=\"Suggest charts\"\n",
              "            style=\"display:none;\">\n",
              "\n",
              "<svg xmlns=\"http://www.w3.org/2000/svg\" height=\"24px\"viewBox=\"0 0 24 24\"\n",
              "     width=\"24px\">\n",
              "    <g>\n",
              "        <path d=\"M19 3H5c-1.1 0-2 .9-2 2v14c0 1.1.9 2 2 2h14c1.1 0 2-.9 2-2V5c0-1.1-.9-2-2-2zM9 17H7v-7h2v7zm4 0h-2V7h2v10zm4 0h-2v-4h2v4z\"/>\n",
              "    </g>\n",
              "</svg>\n",
              "  </button>\n",
              "\n",
              "<style>\n",
              "  .colab-df-quickchart {\n",
              "      --bg-color: #E8F0FE;\n",
              "      --fill-color: #1967D2;\n",
              "      --hover-bg-color: #E2EBFA;\n",
              "      --hover-fill-color: #174EA6;\n",
              "      --disabled-fill-color: #AAA;\n",
              "      --disabled-bg-color: #DDD;\n",
              "  }\n",
              "\n",
              "  [theme=dark] .colab-df-quickchart {\n",
              "      --bg-color: #3B4455;\n",
              "      --fill-color: #D2E3FC;\n",
              "      --hover-bg-color: #434B5C;\n",
              "      --hover-fill-color: #FFFFFF;\n",
              "      --disabled-bg-color: #3B4455;\n",
              "      --disabled-fill-color: #666;\n",
              "  }\n",
              "\n",
              "  .colab-df-quickchart {\n",
              "    background-color: var(--bg-color);\n",
              "    border: none;\n",
              "    border-radius: 50%;\n",
              "    cursor: pointer;\n",
              "    display: none;\n",
              "    fill: var(--fill-color);\n",
              "    height: 32px;\n",
              "    padding: 0;\n",
              "    width: 32px;\n",
              "  }\n",
              "\n",
              "  .colab-df-quickchart:hover {\n",
              "    background-color: var(--hover-bg-color);\n",
              "    box-shadow: 0 1px 2px rgba(60, 64, 67, 0.3), 0 1px 3px 1px rgba(60, 64, 67, 0.15);\n",
              "    fill: var(--button-hover-fill-color);\n",
              "  }\n",
              "\n",
              "  .colab-df-quickchart-complete:disabled,\n",
              "  .colab-df-quickchart-complete:disabled:hover {\n",
              "    background-color: var(--disabled-bg-color);\n",
              "    fill: var(--disabled-fill-color);\n",
              "    box-shadow: none;\n",
              "  }\n",
              "\n",
              "  .colab-df-spinner {\n",
              "    border: 2px solid var(--fill-color);\n",
              "    border-color: transparent;\n",
              "    border-bottom-color: var(--fill-color);\n",
              "    animation:\n",
              "      spin 1s steps(1) infinite;\n",
              "  }\n",
              "\n",
              "  @keyframes spin {\n",
              "    0% {\n",
              "      border-color: transparent;\n",
              "      border-bottom-color: var(--fill-color);\n",
              "      border-left-color: var(--fill-color);\n",
              "    }\n",
              "    20% {\n",
              "      border-color: transparent;\n",
              "      border-left-color: var(--fill-color);\n",
              "      border-top-color: var(--fill-color);\n",
              "    }\n",
              "    30% {\n",
              "      border-color: transparent;\n",
              "      border-left-color: var(--fill-color);\n",
              "      border-top-color: var(--fill-color);\n",
              "      border-right-color: var(--fill-color);\n",
              "    }\n",
              "    40% {\n",
              "      border-color: transparent;\n",
              "      border-right-color: var(--fill-color);\n",
              "      border-top-color: var(--fill-color);\n",
              "    }\n",
              "    60% {\n",
              "      border-color: transparent;\n",
              "      border-right-color: var(--fill-color);\n",
              "    }\n",
              "    80% {\n",
              "      border-color: transparent;\n",
              "      border-right-color: var(--fill-color);\n",
              "      border-bottom-color: var(--fill-color);\n",
              "    }\n",
              "    90% {\n",
              "      border-color: transparent;\n",
              "      border-bottom-color: var(--fill-color);\n",
              "    }\n",
              "  }\n",
              "</style>\n",
              "\n",
              "  <script>\n",
              "    async function quickchart(key) {\n",
              "      const quickchartButtonEl =\n",
              "        document.querySelector('#' + key + ' button');\n",
              "      quickchartButtonEl.disabled = true;  // To prevent multiple clicks.\n",
              "      quickchartButtonEl.classList.add('colab-df-spinner');\n",
              "      try {\n",
              "        const charts = await google.colab.kernel.invokeFunction(\n",
              "            'suggestCharts', [key], {});\n",
              "      } catch (error) {\n",
              "        console.error('Error during call to suggestCharts:', error);\n",
              "      }\n",
              "      quickchartButtonEl.classList.remove('colab-df-spinner');\n",
              "      quickchartButtonEl.classList.add('colab-df-quickchart-complete');\n",
              "    }\n",
              "    (() => {\n",
              "      let quickchartButtonEl =\n",
              "        document.querySelector('#df-7dfbd6ec-f9a9-488e-b94d-fac483e56cbe button');\n",
              "      quickchartButtonEl.style.display =\n",
              "        google.colab.kernel.accessAllowed ? 'block' : 'none';\n",
              "    })();\n",
              "  </script>\n",
              "</div>\n",
              "\n",
              "    </div>\n",
              "  </div>\n"
            ],
            "application/vnd.google.colaboratory.intrinsic+json": {
              "type": "dataframe",
              "variable_name": "df",
              "summary": "{\n  \"name\": \"df\",\n  \"rows\": 19820,\n  \"fields\": [\n    {\n      \"column\": \"selling_price\",\n      \"properties\": {\n        \"dtype\": \"number\",\n        \"std\": 1.0000252279980362,\n        \"min\": -1.2967184783736836,\n        \"max\": 2.953636494022545,\n        \"num_unique_values\": 964,\n        \"samples\": [\n          -1.0966046900846724,\n          2.9221753056575284,\n          0.6466545996494959\n        ],\n        \"semantic_type\": \"\",\n        \"description\": \"\"\n      }\n    },\n    {\n      \"column\": \"year\",\n      \"properties\": {\n        \"dtype\": \"number\",\n        \"std\": 1.0000252279980362,\n        \"min\": -7.058050669336456,\n        \"max\": 2.0142138122928364,\n        \"num_unique_values\": 27,\n        \"samples\": [\n          -0.1756431315487169,\n          1.7013771060297571,\n          -1.114153250337954\n        ],\n        \"semantic_type\": \"\",\n        \"description\": \"\"\n      }\n    },\n    {\n      \"column\": \"km_driven\",\n      \"properties\": {\n        \"dtype\": \"number\",\n        \"std\": 1.0000252279980362,\n        \"min\": -1.1226784261830776,\n        \"max\": 72.35599712942987,\n        \"num_unique_values\": 4476,\n        \"samples\": [\n          1.518756106540607,\n          0.4068784664848833,\n          0.6109805271942427\n        ],\n        \"semantic_type\": \"\",\n        \"description\": \"\"\n      }\n    },\n    {\n      \"column\": \"mileage\",\n      \"properties\": {\n        \"dtype\": \"number\",\n        \"std\": 1.0000252279980362,\n        \"min\": -3.6073926293699374,\n        \"max\": 23.38394396843033,\n        \"num_unique_values\": 532,\n        \"samples\": [\n          0.2342191570928419,\n          -2.4672413420490646,\n          -0.1869387674073179\n        ],\n        \"semantic_type\": \"\",\n        \"description\": \"\"\n      }\n    },\n    {\n      \"column\": \"engine\",\n      \"properties\": {\n        \"dtype\": \"number\",\n        \"std\": 1.0000252279980362,\n        \"min\": -2.845779992071435,\n        \"max\": 10.174939330091336,\n        \"num_unique_values\": 167,\n        \"samples\": [\n          -0.4506772968513284,\n          1.7033723895905872,\n          -2.812996782877601\n        ],\n        \"semantic_type\": \"\",\n        \"description\": \"\"\n      }\n    },\n    {\n      \"column\": \"max_power\",\n      \"properties\": {\n        \"dtype\": \"number\",\n        \"std\": 1.0000252279980364,\n        \"min\": -2.0804661368688278,\n        \"max\": 11.79334329235809,\n        \"num_unique_values\": 484,\n        \"samples\": [\n          -0.2972012920364724,\n          10.653948315078583,\n          0.1201300447396289\n        ],\n        \"semantic_type\": \"\",\n        \"description\": \"\"\n      }\n    },\n    {\n      \"column\": \"age\",\n      \"properties\": {\n        \"dtype\": \"number\",\n        \"std\": 1.0000252279980362,\n        \"min\": -2.0142138122928377,\n        \"max\": 7.058050669336454,\n        \"num_unique_values\": 27,\n        \"samples\": [\n          0.1756431315487155,\n          -1.701377106029759,\n          1.1141532503379528\n        ],\n        \"semantic_type\": \"\",\n        \"description\": \"\"\n      }\n    },\n    {\n      \"column\": \"make\",\n      \"properties\": {\n        \"dtype\": \"number\",\n        \"std\": 1.0000252279980364,\n        \"min\": -1.2916194225397517,\n        \"max\": 3.3607734981578625,\n        \"num_unique_values\": 28,\n        \"samples\": [\n          0.7244753106436638,\n          -0.0847370249230741,\n          3.3607734981578625\n        ],\n        \"semantic_type\": \"\",\n        \"description\": \"\"\n      }\n    },\n    {\n      \"column\": \"model\",\n      \"properties\": {\n        \"dtype\": \"number\",\n        \"std\": 1.0000252279980362,\n        \"min\": -1.3093644088783905,\n        \"max\": 3.010305593731527,\n        \"num_unique_values\": 811,\n        \"samples\": [\n          0.5012128610771729,\n          -0.8233949735222015,\n          -0.8895204042510134\n        ],\n        \"semantic_type\": \"\",\n        \"description\": \"\"\n      }\n    },\n    {\n      \"column\": \"Individual\",\n      \"properties\": {\n        \"dtype\": \"number\",\n        \"std\": 1.0000252279980362,\n        \"min\": -0.800709712517256,\n        \"max\": 1.2488920570929742,\n        \"num_unique_values\": 2,\n        \"samples\": [\n          -0.800709712517256,\n          1.2488920570929742\n        ],\n        \"semantic_type\": \"\",\n        \"description\": \"\"\n      }\n    },\n    {\n      \"column\": \"Trustmark Dealer\",\n      \"properties\": {\n        \"dtype\": \"number\",\n        \"std\": 1.0000252279980357,\n        \"min\": -0.0983822273543098,\n        \"max\": 10.164437489290007,\n        \"num_unique_values\": 2,\n        \"samples\": [\n          10.164437489290007,\n          -0.0983822273543098\n        ],\n        \"semantic_type\": \"\",\n        \"description\": \"\"\n      }\n    },\n    {\n      \"column\": \"Diesel\",\n      \"properties\": {\n        \"dtype\": \"number\",\n        \"std\": 1.0000252279980366,\n        \"min\": -0.9852749008311416,\n        \"max\": 1.014945168253487,\n        \"num_unique_values\": 2,\n        \"samples\": [\n          1.014945168253487,\n          -0.9852749008311416\n        ],\n        \"semantic_type\": \"\",\n        \"description\": \"\"\n      }\n    },\n    {\n      \"column\": \"Electric\",\n      \"properties\": {\n        \"dtype\": \"number\",\n        \"std\": 1.0000252279980357,\n        \"min\": -0.0200946679342115,\n        \"max\": 49.76444513907494,\n        \"num_unique_values\": 2,\n        \"samples\": [\n          49.76444513907494,\n          -0.0200946679342115\n        ],\n        \"semantic_type\": \"\",\n        \"description\": \"\"\n      }\n    },\n    {\n      \"column\": \"LPG\",\n      \"properties\": {\n        \"dtype\": \"number\",\n        \"std\": 1.000025227998036,\n        \"min\": -0.0569168004237751,\n        \"max\": 17.569504830814097,\n        \"num_unique_values\": 2,\n        \"samples\": [\n          17.569504830814097,\n          -0.0569168004237751\n        ],\n        \"semantic_type\": \"\",\n        \"description\": \"\"\n      }\n    },\n    {\n      \"column\": \"Petrol\",\n      \"properties\": {\n        \"dtype\": \"number\",\n        \"std\": 1.000025227998036,\n        \"min\": -0.9759697707407052,\n        \"max\": 1.0246218991404383,\n        \"num_unique_values\": 2,\n        \"samples\": [\n          -0.9759697707407052,\n          1.0246218991404383\n        ],\n        \"semantic_type\": \"\",\n        \"description\": \"\"\n      }\n    },\n    {\n      \"column\": \"Manual\",\n      \"properties\": {\n        \"dtype\": \"number\",\n        \"std\": 1.000025227998036,\n        \"min\": -2.0168682670789857,\n        \"max\": 0.4958182030640464,\n        \"num_unique_values\": 2,\n        \"samples\": [\n          -2.0168682670789857,\n          0.4958182030640464\n        ],\n        \"semantic_type\": \"\",\n        \"description\": \"\"\n      }\n    },\n    {\n      \"column\": \"5\",\n      \"properties\": {\n        \"dtype\": \"number\",\n        \"std\": 1.0000252279980362,\n        \"min\": -2.249702664689426,\n        \"max\": 0.4445031851078201,\n        \"num_unique_values\": 2,\n        \"samples\": [\n          -2.249702664689426,\n          0.4445031851078201\n        ],\n        \"semantic_type\": \"\",\n        \"description\": \"\"\n      }\n    },\n    {\n      \"column\": \">5\",\n      \"properties\": {\n        \"dtype\": \"number\",\n        \"std\": 1.0000252279980366,\n        \"min\": -0.4247284530486916,\n        \"max\": 2.354445511766452,\n        \"num_unique_values\": 2,\n        \"samples\": [\n          2.354445511766452,\n          -0.4247284530486916\n        ],\n        \"semantic_type\": \"\",\n        \"description\": \"\"\n      }\n    }\n  ]\n}"
            }
          },
          "metadata": {},
          "execution_count": 2
        }
      ]
    },
    {
      "cell_type": "code",
      "source": [
        "y=df['selling_price']\n",
        "X=df.drop('selling_price', axis=1)"
      ],
      "metadata": {
        "id": "1WTAScgfYaXu"
      },
      "execution_count": null,
      "outputs": []
    },
    {
      "cell_type": "code",
      "source": [
        "# split and scale features\n",
        "from sklearn.model_selection import train_test_split\n",
        "from sklearn.preprocessing import StandardScaler,MinMaxScaler\n",
        "\n",
        "X_train, X_test, y_train, y_test = train_test_split(X, y, test_size=0.2, random_state=2)\n",
        "\n",
        "scaler = StandardScaler() # mean 0 and standard deviation of 1\n",
        "X_train = scaler.fit_transform(X_train) # learn parameters and transform/convert"
      ],
      "metadata": {
        "id": "ey5xWUN_YeUG"
      },
      "execution_count": null,
      "outputs": []
    },
    {
      "cell_type": "code",
      "source": [
        "X_test = scaler.transform(X_test) # convert using parameters learnt from Training Data"
      ],
      "metadata": {
        "id": "JM4FMPdf7Iwu"
      },
      "execution_count": null,
      "outputs": []
    },
    {
      "cell_type": "markdown",
      "source": [
        "#### Implement standard scaler from scratch"
      ],
      "metadata": {
        "id": "HOx7lMVE8wGE"
      }
    },
    {
      "cell_type": "markdown",
      "source": [
        "### SkLearn Linear Regression Model"
      ],
      "metadata": {
        "id": "AIOXEfkHv9wh"
      }
    },
    {
      "cell_type": "code",
      "source": [
        "# import and fit\n",
        "from sklearn.linear_model import LinearRegression\n",
        "\n",
        "sklr = LinearRegression()\n",
        "sklr"
      ],
      "metadata": {
        "id": "L8n3SS1KX-5n",
        "colab": {
          "base_uri": "https://localhost:8080/",
          "height": 75
        },
        "outputId": "ab657e61-7bda-4b1b-972b-79d235d3f0fb"
      },
      "execution_count": null,
      "outputs": [
        {
          "output_type": "execute_result",
          "data": {
            "text/plain": [
              "LinearRegression()"
            ],
            "text/html": [
              "<style>#sk-container-id-1 {color: black;}#sk-container-id-1 pre{padding: 0;}#sk-container-id-1 div.sk-toggleable {background-color: white;}#sk-container-id-1 label.sk-toggleable__label {cursor: pointer;display: block;width: 100%;margin-bottom: 0;padding: 0.3em;box-sizing: border-box;text-align: center;}#sk-container-id-1 label.sk-toggleable__label-arrow:before {content: \"▸\";float: left;margin-right: 0.25em;color: #696969;}#sk-container-id-1 label.sk-toggleable__label-arrow:hover:before {color: black;}#sk-container-id-1 div.sk-estimator:hover label.sk-toggleable__label-arrow:before {color: black;}#sk-container-id-1 div.sk-toggleable__content {max-height: 0;max-width: 0;overflow: hidden;text-align: left;background-color: #f0f8ff;}#sk-container-id-1 div.sk-toggleable__content pre {margin: 0.2em;color: black;border-radius: 0.25em;background-color: #f0f8ff;}#sk-container-id-1 input.sk-toggleable__control:checked~div.sk-toggleable__content {max-height: 200px;max-width: 100%;overflow: auto;}#sk-container-id-1 input.sk-toggleable__control:checked~label.sk-toggleable__label-arrow:before {content: \"▾\";}#sk-container-id-1 div.sk-estimator input.sk-toggleable__control:checked~label.sk-toggleable__label {background-color: #d4ebff;}#sk-container-id-1 div.sk-label input.sk-toggleable__control:checked~label.sk-toggleable__label {background-color: #d4ebff;}#sk-container-id-1 input.sk-hidden--visually {border: 0;clip: rect(1px 1px 1px 1px);clip: rect(1px, 1px, 1px, 1px);height: 1px;margin: -1px;overflow: hidden;padding: 0;position: absolute;width: 1px;}#sk-container-id-1 div.sk-estimator {font-family: monospace;background-color: #f0f8ff;border: 1px dotted black;border-radius: 0.25em;box-sizing: border-box;margin-bottom: 0.5em;}#sk-container-id-1 div.sk-estimator:hover {background-color: #d4ebff;}#sk-container-id-1 div.sk-parallel-item::after {content: \"\";width: 100%;border-bottom: 1px solid gray;flex-grow: 1;}#sk-container-id-1 div.sk-label:hover label.sk-toggleable__label {background-color: #d4ebff;}#sk-container-id-1 div.sk-serial::before {content: \"\";position: absolute;border-left: 1px solid gray;box-sizing: border-box;top: 0;bottom: 0;left: 50%;z-index: 0;}#sk-container-id-1 div.sk-serial {display: flex;flex-direction: column;align-items: center;background-color: white;padding-right: 0.2em;padding-left: 0.2em;position: relative;}#sk-container-id-1 div.sk-item {position: relative;z-index: 1;}#sk-container-id-1 div.sk-parallel {display: flex;align-items: stretch;justify-content: center;background-color: white;position: relative;}#sk-container-id-1 div.sk-item::before, #sk-container-id-1 div.sk-parallel-item::before {content: \"\";position: absolute;border-left: 1px solid gray;box-sizing: border-box;top: 0;bottom: 0;left: 50%;z-index: -1;}#sk-container-id-1 div.sk-parallel-item {display: flex;flex-direction: column;z-index: 1;position: relative;background-color: white;}#sk-container-id-1 div.sk-parallel-item:first-child::after {align-self: flex-end;width: 50%;}#sk-container-id-1 div.sk-parallel-item:last-child::after {align-self: flex-start;width: 50%;}#sk-container-id-1 div.sk-parallel-item:only-child::after {width: 0;}#sk-container-id-1 div.sk-dashed-wrapped {border: 1px dashed gray;margin: 0 0.4em 0.5em 0.4em;box-sizing: border-box;padding-bottom: 0.4em;background-color: white;}#sk-container-id-1 div.sk-label label {font-family: monospace;font-weight: bold;display: inline-block;line-height: 1.2em;}#sk-container-id-1 div.sk-label-container {text-align: center;}#sk-container-id-1 div.sk-container {/* jupyter's `normalize.less` sets `[hidden] { display: none; }` but bootstrap.min.css set `[hidden] { display: none !important; }` so we also need the `!important` here to be able to override the default hidden behavior on the sphinx rendered scikit-learn.org. See: https://github.com/scikit-learn/scikit-learn/issues/21755 */display: inline-block !important;position: relative;}#sk-container-id-1 div.sk-text-repr-fallback {display: none;}</style><div id=\"sk-container-id-1\" class=\"sk-top-container\"><div class=\"sk-text-repr-fallback\"><pre>LinearRegression()</pre><b>In a Jupyter environment, please rerun this cell to show the HTML representation or trust the notebook. <br />On GitHub, the HTML representation is unable to render, please try loading this page with nbviewer.org.</b></div><div class=\"sk-container\" hidden><div class=\"sk-item\"><div class=\"sk-estimator sk-toggleable\"><input class=\"sk-toggleable__control sk-hidden--visually\" id=\"sk-estimator-id-1\" type=\"checkbox\" checked><label for=\"sk-estimator-id-1\" class=\"sk-toggleable__label sk-toggleable__label-arrow\">LinearRegression</label><div class=\"sk-toggleable__content\"><pre>LinearRegression()</pre></div></div></div></div></div>"
            ]
          },
          "metadata": {},
          "execution_count": 6
        }
      ]
    },
    {
      "cell_type": "code",
      "source": [
        "sklr.fit(X_train,y_train)"
      ],
      "metadata": {
        "colab": {
          "base_uri": "https://localhost:8080/",
          "height": 75
        },
        "id": "7Kz-Nbh22tGO",
        "outputId": "e5c27790-baaa-4dee-d1bb-cc7fa24345e2"
      },
      "execution_count": null,
      "outputs": [
        {
          "output_type": "execute_result",
          "data": {
            "text/plain": [
              "LinearRegression()"
            ],
            "text/html": [
              "<style>#sk-container-id-2 {color: black;}#sk-container-id-2 pre{padding: 0;}#sk-container-id-2 div.sk-toggleable {background-color: white;}#sk-container-id-2 label.sk-toggleable__label {cursor: pointer;display: block;width: 100%;margin-bottom: 0;padding: 0.3em;box-sizing: border-box;text-align: center;}#sk-container-id-2 label.sk-toggleable__label-arrow:before {content: \"▸\";float: left;margin-right: 0.25em;color: #696969;}#sk-container-id-2 label.sk-toggleable__label-arrow:hover:before {color: black;}#sk-container-id-2 div.sk-estimator:hover label.sk-toggleable__label-arrow:before {color: black;}#sk-container-id-2 div.sk-toggleable__content {max-height: 0;max-width: 0;overflow: hidden;text-align: left;background-color: #f0f8ff;}#sk-container-id-2 div.sk-toggleable__content pre {margin: 0.2em;color: black;border-radius: 0.25em;background-color: #f0f8ff;}#sk-container-id-2 input.sk-toggleable__control:checked~div.sk-toggleable__content {max-height: 200px;max-width: 100%;overflow: auto;}#sk-container-id-2 input.sk-toggleable__control:checked~label.sk-toggleable__label-arrow:before {content: \"▾\";}#sk-container-id-2 div.sk-estimator input.sk-toggleable__control:checked~label.sk-toggleable__label {background-color: #d4ebff;}#sk-container-id-2 div.sk-label input.sk-toggleable__control:checked~label.sk-toggleable__label {background-color: #d4ebff;}#sk-container-id-2 input.sk-hidden--visually {border: 0;clip: rect(1px 1px 1px 1px);clip: rect(1px, 1px, 1px, 1px);height: 1px;margin: -1px;overflow: hidden;padding: 0;position: absolute;width: 1px;}#sk-container-id-2 div.sk-estimator {font-family: monospace;background-color: #f0f8ff;border: 1px dotted black;border-radius: 0.25em;box-sizing: border-box;margin-bottom: 0.5em;}#sk-container-id-2 div.sk-estimator:hover {background-color: #d4ebff;}#sk-container-id-2 div.sk-parallel-item::after {content: \"\";width: 100%;border-bottom: 1px solid gray;flex-grow: 1;}#sk-container-id-2 div.sk-label:hover label.sk-toggleable__label {background-color: #d4ebff;}#sk-container-id-2 div.sk-serial::before {content: \"\";position: absolute;border-left: 1px solid gray;box-sizing: border-box;top: 0;bottom: 0;left: 50%;z-index: 0;}#sk-container-id-2 div.sk-serial {display: flex;flex-direction: column;align-items: center;background-color: white;padding-right: 0.2em;padding-left: 0.2em;position: relative;}#sk-container-id-2 div.sk-item {position: relative;z-index: 1;}#sk-container-id-2 div.sk-parallel {display: flex;align-items: stretch;justify-content: center;background-color: white;position: relative;}#sk-container-id-2 div.sk-item::before, #sk-container-id-2 div.sk-parallel-item::before {content: \"\";position: absolute;border-left: 1px solid gray;box-sizing: border-box;top: 0;bottom: 0;left: 50%;z-index: -1;}#sk-container-id-2 div.sk-parallel-item {display: flex;flex-direction: column;z-index: 1;position: relative;background-color: white;}#sk-container-id-2 div.sk-parallel-item:first-child::after {align-self: flex-end;width: 50%;}#sk-container-id-2 div.sk-parallel-item:last-child::after {align-self: flex-start;width: 50%;}#sk-container-id-2 div.sk-parallel-item:only-child::after {width: 0;}#sk-container-id-2 div.sk-dashed-wrapped {border: 1px dashed gray;margin: 0 0.4em 0.5em 0.4em;box-sizing: border-box;padding-bottom: 0.4em;background-color: white;}#sk-container-id-2 div.sk-label label {font-family: monospace;font-weight: bold;display: inline-block;line-height: 1.2em;}#sk-container-id-2 div.sk-label-container {text-align: center;}#sk-container-id-2 div.sk-container {/* jupyter's `normalize.less` sets `[hidden] { display: none; }` but bootstrap.min.css set `[hidden] { display: none !important; }` so we also need the `!important` here to be able to override the default hidden behavior on the sphinx rendered scikit-learn.org. See: https://github.com/scikit-learn/scikit-learn/issues/21755 */display: inline-block !important;position: relative;}#sk-container-id-2 div.sk-text-repr-fallback {display: none;}</style><div id=\"sk-container-id-2\" class=\"sk-top-container\"><div class=\"sk-text-repr-fallback\"><pre>LinearRegression()</pre><b>In a Jupyter environment, please rerun this cell to show the HTML representation or trust the notebook. <br />On GitHub, the HTML representation is unable to render, please try loading this page with nbviewer.org.</b></div><div class=\"sk-container\" hidden><div class=\"sk-item\"><div class=\"sk-estimator sk-toggleable\"><input class=\"sk-toggleable__control sk-hidden--visually\" id=\"sk-estimator-id-2\" type=\"checkbox\" checked><label for=\"sk-estimator-id-2\" class=\"sk-toggleable__label sk-toggleable__label-arrow\">LinearRegression</label><div class=\"sk-toggleable__content\"><pre>LinearRegression()</pre></div></div></div></div></div>"
            ]
          },
          "metadata": {},
          "execution_count": 7
        }
      ]
    },
    {
      "cell_type": "code",
      "source": [
        "# r2_score\n",
        "sklr.score(X_train,y_train)"
      ],
      "metadata": {
        "id": "hOeOWd9YYRa5",
        "colab": {
          "base_uri": "https://localhost:8080/"
        },
        "outputId": "c4fb9cf1-661e-4023-a815-af325195ca3e"
      },
      "execution_count": null,
      "outputs": [
        {
          "output_type": "execute_result",
          "data": {
            "text/plain": [
              "0.9413263952873979"
            ]
          },
          "metadata": {},
          "execution_count": 8
        }
      ]
    },
    {
      "cell_type": "code",
      "source": [
        "sklr.coef_ # w vector"
      ],
      "metadata": {
        "colab": {
          "base_uri": "https://localhost:8080/"
        },
        "id": "Y8_ppBooAPck",
        "outputId": "fb507bc0-a841-4f4a-f4d1-cb31d430b5e3"
      },
      "execution_count": null,
      "outputs": [
        {
          "output_type": "execute_result",
          "data": {
            "text/plain": [
              "array([ 0.06592759, -0.01687916, -0.0498347 ,  0.03068838,  0.03021315,\n",
              "       -0.06592759,  0.06069254,  0.79072799, -0.01786213, -0.00312257,\n",
              "        0.01291355,  0.01548967,  0.0022856 , -0.02384281, -0.01358223,\n",
              "       -0.02640594, -0.03590246])"
            ]
          },
          "metadata": {},
          "execution_count": 9
        }
      ]
    },
    {
      "cell_type": "code",
      "source": [
        "len(sklr.coef_)"
      ],
      "metadata": {
        "colab": {
          "base_uri": "https://localhost:8080/"
        },
        "id": "uOI9XFNAAbFH",
        "outputId": "dccb4927-f678-48bc-c222-abb4345cfb9f"
      },
      "execution_count": null,
      "outputs": [
        {
          "output_type": "execute_result",
          "data": {
            "text/plain": [
              "17"
            ]
          },
          "metadata": {},
          "execution_count": 10
        }
      ]
    },
    {
      "cell_type": "code",
      "source": [
        "sklr.intercept_ # wo"
      ],
      "metadata": {
        "colab": {
          "base_uri": "https://localhost:8080/"
        },
        "id": "i3aaHg-BAfYm",
        "outputId": "3caeb9a0-ee46-468f-a58a-e606b6235735"
      },
      "execution_count": null,
      "outputs": [
        {
          "output_type": "execute_result",
          "data": {
            "text/plain": [
              "-0.00042933171296637043"
            ]
          },
          "metadata": {},
          "execution_count": 11
        }
      ]
    },
    {
      "cell_type": "code",
      "source": [
        "# predict\n",
        "y_pred=sklr.predict(X_test)\n",
        "y_pred"
      ],
      "metadata": {
        "id": "VgwNGBcQwBvN",
        "colab": {
          "base_uri": "https://localhost:8080/"
        },
        "outputId": "d252b1f4-b134-41a3-a27f-13288a23dbf9"
      },
      "execution_count": null,
      "outputs": [
        {
          "output_type": "execute_result",
          "data": {
            "text/plain": [
              "array([ 1.43903205, -0.84803021, -0.28007228, ..., -1.00943898,\n",
              "        0.64939771, -0.57643752])"
            ]
          },
          "metadata": {},
          "execution_count": 12
        }
      ]
    },
    {
      "cell_type": "code",
      "source": [
        "y_pred.shape"
      ],
      "metadata": {
        "colab": {
          "base_uri": "https://localhost:8080/"
        },
        "id": "JypuE7r46F-p",
        "outputId": "6934748f-6790-42da-b8f2-4501829292ce"
      },
      "execution_count": null,
      "outputs": [
        {
          "output_type": "execute_result",
          "data": {
            "text/plain": [
              "(3964,)"
            ]
          },
          "metadata": {},
          "execution_count": 13
        }
      ]
    },
    {
      "cell_type": "code",
      "source": [
        "X_test.shape"
      ],
      "metadata": {
        "colab": {
          "base_uri": "https://localhost:8080/"
        },
        "id": "T5tdTj_Y6IA0",
        "outputId": "5aa75ed3-3617-4aee-c81c-04528a18c6ea"
      },
      "execution_count": null,
      "outputs": [
        {
          "output_type": "execute_result",
          "data": {
            "text/plain": [
              "(3964, 17)"
            ]
          },
          "metadata": {},
          "execution_count": 14
        }
      ]
    },
    {
      "cell_type": "code",
      "source": [
        "y_test.shape # actual values from dataset"
      ],
      "metadata": {
        "colab": {
          "base_uri": "https://localhost:8080/"
        },
        "id": "XuHWqIse6VNn",
        "outputId": "e9f78122-1dec-46f9-bf76-97dbad6aa8f9"
      },
      "execution_count": null,
      "outputs": [
        {
          "output_type": "execute_result",
          "data": {
            "text/plain": [
              "(3964,)"
            ]
          },
          "metadata": {},
          "execution_count": 15
        }
      ]
    },
    {
      "cell_type": "code",
      "source": [
        "# metrics r2_score\n",
        "from sklearn.metrics import r2_score\n",
        "\n",
        "test_r2_score= r2_score(y_test, y_pred)\n",
        "test_r2_score"
      ],
      "metadata": {
        "id": "ymb6uhUbZYPa",
        "colab": {
          "base_uri": "https://localhost:8080/"
        },
        "outputId": "d2bdf399-78a6-4c45-f4ad-6e76ffba7f09"
      },
      "execution_count": null,
      "outputs": [
        {
          "output_type": "execute_result",
          "data": {
            "text/plain": [
              "0.9455454484627915"
            ]
          },
          "metadata": {},
          "execution_count": 16
        }
      ]
    },
    {
      "cell_type": "code",
      "source": [
        "X_test.shape[1]"
      ],
      "metadata": {
        "colab": {
          "base_uri": "https://localhost:8080/"
        },
        "id": "pVYfdJWtZlfL",
        "outputId": "ceed11fc-edf1-464d-c5d8-eea40e9005a3"
      },
      "execution_count": null,
      "outputs": [
        {
          "output_type": "execute_result",
          "data": {
            "text/plain": [
              "17"
            ]
          },
          "metadata": {},
          "execution_count": 17
        }
      ]
    },
    {
      "cell_type": "code",
      "source": [
        "def adj_r2(r2,n,k):\n",
        "    return 1 - (((1-r2)*(n-1))/(n-k-1))\n",
        "\n",
        "adj_r2(test_r2_score,X_test.shape[0],X_test.shape[1])"
      ],
      "metadata": {
        "id": "k8XSQdr7ZAw-",
        "colab": {
          "base_uri": "https://localhost:8080/"
        },
        "outputId": "e4bf6637-5014-465c-8adc-73d34a052052"
      },
      "execution_count": null,
      "outputs": [
        {
          "output_type": "execute_result",
          "data": {
            "text/plain": [
              "0.945310849533209"
            ]
          },
          "metadata": {},
          "execution_count": 18
        }
      ]
    },
    {
      "cell_type": "markdown",
      "source": [
        "### statsmodels Linear Regression: OLS"
      ],
      "metadata": {
        "id": "sV1Ve_o2Z3xp"
      }
    },
    {
      "cell_type": "code",
      "source": [
        "import statsmodels.api as sm\n",
        "\n",
        "\n",
        "X_train, X_test, y_train, y_test"
      ],
      "metadata": {
        "id": "qYv7Ti-HZqG1",
        "colab": {
          "base_uri": "https://localhost:8080/"
        },
        "outputId": "8363cdb3-6a22-4366-9640-e54c2dbe6f83"
      },
      "execution_count": null,
      "outputs": [
        {
          "output_type": "execute_result",
          "data": {
            "text/plain": [
              "(array([[-0.48695362,  0.15876399, -0.89685782, ..., -2.02323478,\n",
              "          0.4484653 , -0.42801318],\n",
              "        [ 0.76343287, -0.42916149,  0.23102856, ...,  0.49425801,\n",
              "          0.4484653 , -0.42801318],\n",
              "        [ 0.45083625,  1.31624227,  0.47682051, ..., -2.02323478,\n",
              "          0.4484653 , -0.42801318],\n",
              "        ...,\n",
              "        [ 0.45083625, -0.29081528, -0.96806857, ...,  0.49425801,\n",
              "          0.4484653 , -0.42801318],\n",
              "        [-0.48695362, -0.79661492, -0.14340215, ..., -2.02323478,\n",
              "          0.4484653 , -0.42801318],\n",
              "        [-0.174357  , -0.53939752, -1.03468508, ...,  0.49425801,\n",
              "          0.4484653 , -0.42801318]]),\n",
              " array([[ 1.38862611, -0.42916149, -0.72227663, ...,  0.49425801,\n",
              "         -2.22982691,  2.33637664],\n",
              "        [-0.48695362, -0.11682608,  0.19657175, ...,  0.49425801,\n",
              "          0.4484653 , -0.42801318],\n",
              "        [ 1.38862611, -0.88847827,  0.18278902, ...,  0.49425801,\n",
              "          0.4484653 , -0.42801318],\n",
              "        ...,\n",
              "        [-1.11214686, -0.52102485,  0.32521052, ...,  0.49425801,\n",
              "          0.4484653 , -0.42801318],\n",
              "        [ 1.07602949, -0.60631079,  0.50438596, ...,  0.49425801,\n",
              "          0.4484653 , -0.42801318],\n",
              "        [ 0.13823963, -0.55777019, -0.13880791, ...,  0.49425801,\n",
              "          0.4484653 , -0.42801318]]),\n",
              " 3443    -0.378671\n",
              " 16090   -0.533398\n",
              " 11070   -0.461192\n",
              " 19214   -0.079532\n",
              " 17843   -0.688125\n",
              "            ...   \n",
              " 1099     2.664297\n",
              " 18898   -0.285834\n",
              " 11798    0.343389\n",
              " 6637     2.561145\n",
              " 2575    -0.347725\n",
              " Name: selling_price, Length: 15856, dtype: float64,\n",
              " 11200    1.426479\n",
              " 9638    -0.873798\n",
              " 16445   -0.430246\n",
              " 14965   -0.842852\n",
              " 3114    -0.368356\n",
              "            ...   \n",
              " 17900    2.427048\n",
              " 13319   -0.533398\n",
              " 135     -0.840789\n",
              " 10277    0.601268\n",
              " 4887    -0.554028\n",
              " Name: selling_price, Length: 3964, dtype: float64)"
            ]
          },
          "metadata": {},
          "execution_count": 19
        }
      ]
    },
    {
      "cell_type": "code",
      "source": [
        "X_train = sm.add_constant(X_train) # to include and learn bias\n",
        "\n",
        "lr_sm=sm.OLS(y_train,X_train)"
      ],
      "metadata": {
        "id": "ekO-jx8kaFZ5"
      },
      "execution_count": null,
      "outputs": []
    },
    {
      "cell_type": "code",
      "source": [
        "fitted_model =  lr_sm.fit() # triggers the training process"
      ],
      "metadata": {
        "id": "5qs_vEPLwe2a"
      },
      "execution_count": null,
      "outputs": []
    },
    {
      "cell_type": "code",
      "source": [
        "# detailed summary\n",
        "print(fitted_model.summary())"
      ],
      "metadata": {
        "id": "98qd8QKVwezo",
        "colab": {
          "base_uri": "https://localhost:8080/"
        },
        "outputId": "b24219a8-7938-46b4-942f-150ca8d3d864"
      },
      "execution_count": null,
      "outputs": [
        {
          "output_type": "stream",
          "name": "stdout",
          "text": [
            "                            OLS Regression Results                            \n",
            "==============================================================================\n",
            "Dep. Variable:          selling_price   R-squared:                       0.941\n",
            "Model:                            OLS   Adj. R-squared:                  0.941\n",
            "Method:                 Least Squares   F-statistic:                 1.588e+04\n",
            "Date:                Tue, 20 Aug 2024   Prob (F-statistic):               0.00\n",
            "Time:                        13:01:31   Log-Likelihood:                -7.3180\n",
            "No. Observations:               15856   AIC:                             48.64\n",
            "Df Residuals:                   15839   BIC:                             179.0\n",
            "Df Model:                          16                                         \n",
            "Covariance Type:            nonrobust                                         \n",
            "==============================================================================\n",
            "                 coef    std err          t      P>|t|      [0.025      0.975]\n",
            "------------------------------------------------------------------------------\n",
            "const         -0.0004      0.002     -0.223      0.823      -0.004       0.003\n",
            "x1             0.0659      0.001     49.425      0.000       0.063       0.069\n",
            "x2            -0.0169      0.002     -7.977      0.000      -0.021      -0.013\n",
            "x3            -0.0498      0.003    -14.435      0.000      -0.057      -0.043\n",
            "x4             0.0307      0.005      6.378      0.000       0.021       0.040\n",
            "x5             0.0302      0.004      7.027      0.000       0.022       0.039\n",
            "x6            -0.0659      0.001    -49.425      0.000      -0.069      -0.063\n",
            "x7             0.0607      0.003     17.612      0.000       0.054       0.067\n",
            "x8             0.7907      0.005    171.030      0.000       0.782       0.800\n",
            "x9            -0.0179      0.002     -8.906      0.000      -0.022      -0.014\n",
            "x10           -0.0031      0.002     -1.606      0.108      -0.007       0.001\n",
            "x11            0.0129      0.008      1.614      0.107      -0.003       0.029\n",
            "x12            0.0155      0.002      7.266      0.000       0.011       0.020\n",
            "x13            0.0023      0.002      1.061      0.289      -0.002       0.007\n",
            "x14           -0.0238      0.008     -2.898      0.004      -0.040      -0.008\n",
            "x15           -0.0136      0.003     -5.285      0.000      -0.019      -0.009\n",
            "x16           -0.0264      0.007     -4.005      0.000      -0.039      -0.013\n",
            "x17           -0.0359      0.007     -5.168      0.000      -0.050      -0.022\n",
            "==============================================================================\n",
            "Omnibus:                     3788.584   Durbin-Watson:                   2.003\n",
            "Prob(Omnibus):                  0.000   Jarque-Bera (JB):           169531.293\n",
            "Skew:                           0.334   Prob(JB):                         0.00\n",
            "Kurtosis:                      19.005   Cond. No.                     1.39e+15\n",
            "==============================================================================\n",
            "\n",
            "Notes:\n",
            "[1] Standard Errors assume that the covariance matrix of the errors is correctly specified.\n",
            "[2] The smallest eigenvalue is 3.74e-26. This might indicate that there are\n",
            "strong multicollinearity problems or that the design matrix is singular.\n"
          ]
        }
      ]
    },
    {
      "cell_type": "markdown",
      "source": [
        "- AIC, BIC, and F-Stats"
      ],
      "metadata": {
        "id": "w3iHbz7TCxVA"
      }
    },
    {
      "cell_type": "code",
      "source": [
        "X_test= sm.add_constant(X_test)\n",
        "sm_pred=fitted_model.predict(X_test)\n",
        "sm_pred"
      ],
      "metadata": {
        "colab": {
          "base_uri": "https://localhost:8080/"
        },
        "id": "GmcdmYu5F9Ud",
        "outputId": "37779cda-071b-4ba0-a65c-beb16fd708f9"
      },
      "execution_count": null,
      "outputs": [
        {
          "output_type": "execute_result",
          "data": {
            "text/plain": [
              "array([ 1.43903205, -0.84803021, -0.28007228, ..., -1.00943898,\n",
              "        0.64939771, -0.57643752])"
            ]
          },
          "metadata": {},
          "execution_count": 23
        }
      ]
    },
    {
      "cell_type": "code",
      "source": [
        "# metrics r2_score\n",
        "from sklearn.metrics import r2_score\n",
        "\n",
        "test_r2_score= r2_score(y_test, sm_pred)\n",
        "test_r2_score"
      ],
      "metadata": {
        "colab": {
          "base_uri": "https://localhost:8080/"
        },
        "id": "c4ltBcM-F9Z2",
        "outputId": "db904450-8f64-41f3-f242-a6cab21ee4c8"
      },
      "execution_count": null,
      "outputs": [
        {
          "output_type": "execute_result",
          "data": {
            "text/plain": [
              "0.9455454484627914"
            ]
          },
          "metadata": {},
          "execution_count": 24
        }
      ]
    },
    {
      "cell_type": "code",
      "source": [
        "#0.9455485525562599"
      ],
      "metadata": {
        "id": "KkZP6UFaF9cc"
      },
      "execution_count": null,
      "outputs": []
    },
    {
      "cell_type": "markdown",
      "source": [
        "### Assumption of Linearity and No Multi-Collinearity"
      ],
      "metadata": {
        "id": "kjuQGPHee56_"
      }
    },
    {
      "cell_type": "code",
      "source": [
        "### Correlation 1 to 1"
      ],
      "metadata": {
        "id": "jG2O1XbjcF7z"
      },
      "execution_count": null,
      "outputs": []
    },
    {
      "cell_type": "code",
      "source": [
        "df.head()"
      ],
      "metadata": {
        "id": "B9s40MeBeSni",
        "colab": {
          "base_uri": "https://localhost:8080/",
          "height": 244
        },
        "outputId": "f84a0c6d-5753-4eab-d3cb-ab922ca974f1"
      },
      "execution_count": null,
      "outputs": [
        {
          "output_type": "execute_result",
          "data": {
            "text/plain": [
              "   selling_price      year  km_driven   mileage    engine  max_power  \\\n",
              "0      -1.111046 -0.801317   1.195828  0.045745 -1.310754  -1.157780   \n",
              "1      -0.223944  0.450030  -0.737872 -0.140402 -0.537456  -0.360203   \n",
              "2      -0.915058 -1.426990   0.035608 -0.582501 -0.537456  -0.404885   \n",
              "3      -0.892365 -0.801317  -0.409143  0.329620 -0.921213  -0.693085   \n",
              "4      -0.182683  0.137194  -0.544502  0.760085  0.042999   0.010435   \n",
              "\n",
              "        age      make     model  Individual  Trustmark Dealer    Diesel  \\\n",
              "0  0.801317 -0.433854 -1.125683    1.248892         -0.098382 -0.985275   \n",
              "1 -0.450030 -0.327501 -0.333227    1.248892         -0.098382 -0.985275   \n",
              "2  1.426990 -0.327501 -0.789807    1.248892         -0.098382 -0.985275   \n",
              "3  0.801317 -0.433854 -0.905265    1.248892         -0.098382 -0.985275   \n",
              "4 -0.137194 -0.246579 -0.013096   -0.800710         -0.098382  1.014945   \n",
              "\n",
              "   Electric       LPG    Petrol    Manual         5        >5  \n",
              "0 -0.020095 -0.056917  1.024622  0.495818  0.444503 -0.424728  \n",
              "1 -0.020095 -0.056917  1.024622  0.495818  0.444503 -0.424728  \n",
              "2 -0.020095 -0.056917  1.024622  0.495818  0.444503 -0.424728  \n",
              "3 -0.020095 -0.056917  1.024622  0.495818  0.444503 -0.424728  \n",
              "4 -0.020095 -0.056917 -0.975970  0.495818  0.444503 -0.424728  "
            ],
            "text/html": [
              "\n",
              "  <div id=\"df-fc1e58dd-4697-4d7e-8554-c3af7e9940df\" class=\"colab-df-container\">\n",
              "    <div>\n",
              "<style scoped>\n",
              "    .dataframe tbody tr th:only-of-type {\n",
              "        vertical-align: middle;\n",
              "    }\n",
              "\n",
              "    .dataframe tbody tr th {\n",
              "        vertical-align: top;\n",
              "    }\n",
              "\n",
              "    .dataframe thead th {\n",
              "        text-align: right;\n",
              "    }\n",
              "</style>\n",
              "<table border=\"1\" class=\"dataframe\">\n",
              "  <thead>\n",
              "    <tr style=\"text-align: right;\">\n",
              "      <th></th>\n",
              "      <th>selling_price</th>\n",
              "      <th>year</th>\n",
              "      <th>km_driven</th>\n",
              "      <th>mileage</th>\n",
              "      <th>engine</th>\n",
              "      <th>max_power</th>\n",
              "      <th>age</th>\n",
              "      <th>make</th>\n",
              "      <th>model</th>\n",
              "      <th>Individual</th>\n",
              "      <th>Trustmark Dealer</th>\n",
              "      <th>Diesel</th>\n",
              "      <th>Electric</th>\n",
              "      <th>LPG</th>\n",
              "      <th>Petrol</th>\n",
              "      <th>Manual</th>\n",
              "      <th>5</th>\n",
              "      <th>&gt;5</th>\n",
              "    </tr>\n",
              "  </thead>\n",
              "  <tbody>\n",
              "    <tr>\n",
              "      <th>0</th>\n",
              "      <td>-1.111046</td>\n",
              "      <td>-0.801317</td>\n",
              "      <td>1.195828</td>\n",
              "      <td>0.045745</td>\n",
              "      <td>-1.310754</td>\n",
              "      <td>-1.157780</td>\n",
              "      <td>0.801317</td>\n",
              "      <td>-0.433854</td>\n",
              "      <td>-1.125683</td>\n",
              "      <td>1.248892</td>\n",
              "      <td>-0.098382</td>\n",
              "      <td>-0.985275</td>\n",
              "      <td>-0.020095</td>\n",
              "      <td>-0.056917</td>\n",
              "      <td>1.024622</td>\n",
              "      <td>0.495818</td>\n",
              "      <td>0.444503</td>\n",
              "      <td>-0.424728</td>\n",
              "    </tr>\n",
              "    <tr>\n",
              "      <th>1</th>\n",
              "      <td>-0.223944</td>\n",
              "      <td>0.450030</td>\n",
              "      <td>-0.737872</td>\n",
              "      <td>-0.140402</td>\n",
              "      <td>-0.537456</td>\n",
              "      <td>-0.360203</td>\n",
              "      <td>-0.450030</td>\n",
              "      <td>-0.327501</td>\n",
              "      <td>-0.333227</td>\n",
              "      <td>1.248892</td>\n",
              "      <td>-0.098382</td>\n",
              "      <td>-0.985275</td>\n",
              "      <td>-0.020095</td>\n",
              "      <td>-0.056917</td>\n",
              "      <td>1.024622</td>\n",
              "      <td>0.495818</td>\n",
              "      <td>0.444503</td>\n",
              "      <td>-0.424728</td>\n",
              "    </tr>\n",
              "    <tr>\n",
              "      <th>2</th>\n",
              "      <td>-0.915058</td>\n",
              "      <td>-1.426990</td>\n",
              "      <td>0.035608</td>\n",
              "      <td>-0.582501</td>\n",
              "      <td>-0.537456</td>\n",
              "      <td>-0.404885</td>\n",
              "      <td>1.426990</td>\n",
              "      <td>-0.327501</td>\n",
              "      <td>-0.789807</td>\n",
              "      <td>1.248892</td>\n",
              "      <td>-0.098382</td>\n",
              "      <td>-0.985275</td>\n",
              "      <td>-0.020095</td>\n",
              "      <td>-0.056917</td>\n",
              "      <td>1.024622</td>\n",
              "      <td>0.495818</td>\n",
              "      <td>0.444503</td>\n",
              "      <td>-0.424728</td>\n",
              "    </tr>\n",
              "    <tr>\n",
              "      <th>3</th>\n",
              "      <td>-0.892365</td>\n",
              "      <td>-0.801317</td>\n",
              "      <td>-0.409143</td>\n",
              "      <td>0.329620</td>\n",
              "      <td>-0.921213</td>\n",
              "      <td>-0.693085</td>\n",
              "      <td>0.801317</td>\n",
              "      <td>-0.433854</td>\n",
              "      <td>-0.905265</td>\n",
              "      <td>1.248892</td>\n",
              "      <td>-0.098382</td>\n",
              "      <td>-0.985275</td>\n",
              "      <td>-0.020095</td>\n",
              "      <td>-0.056917</td>\n",
              "      <td>1.024622</td>\n",
              "      <td>0.495818</td>\n",
              "      <td>0.444503</td>\n",
              "      <td>-0.424728</td>\n",
              "    </tr>\n",
              "    <tr>\n",
              "      <th>4</th>\n",
              "      <td>-0.182683</td>\n",
              "      <td>0.137194</td>\n",
              "      <td>-0.544502</td>\n",
              "      <td>0.760085</td>\n",
              "      <td>0.042999</td>\n",
              "      <td>0.010435</td>\n",
              "      <td>-0.137194</td>\n",
              "      <td>-0.246579</td>\n",
              "      <td>-0.013096</td>\n",
              "      <td>-0.800710</td>\n",
              "      <td>-0.098382</td>\n",
              "      <td>1.014945</td>\n",
              "      <td>-0.020095</td>\n",
              "      <td>-0.056917</td>\n",
              "      <td>-0.975970</td>\n",
              "      <td>0.495818</td>\n",
              "      <td>0.444503</td>\n",
              "      <td>-0.424728</td>\n",
              "    </tr>\n",
              "  </tbody>\n",
              "</table>\n",
              "</div>\n",
              "    <div class=\"colab-df-buttons\">\n",
              "\n",
              "  <div class=\"colab-df-container\">\n",
              "    <button class=\"colab-df-convert\" onclick=\"convertToInteractive('df-fc1e58dd-4697-4d7e-8554-c3af7e9940df')\"\n",
              "            title=\"Convert this dataframe to an interactive table.\"\n",
              "            style=\"display:none;\">\n",
              "\n",
              "  <svg xmlns=\"http://www.w3.org/2000/svg\" height=\"24px\" viewBox=\"0 -960 960 960\">\n",
              "    <path d=\"M120-120v-720h720v720H120Zm60-500h600v-160H180v160Zm220 220h160v-160H400v160Zm0 220h160v-160H400v160ZM180-400h160v-160H180v160Zm440 0h160v-160H620v160ZM180-180h160v-160H180v160Zm440 0h160v-160H620v160Z\"/>\n",
              "  </svg>\n",
              "    </button>\n",
              "\n",
              "  <style>\n",
              "    .colab-df-container {\n",
              "      display:flex;\n",
              "      gap: 12px;\n",
              "    }\n",
              "\n",
              "    .colab-df-convert {\n",
              "      background-color: #E8F0FE;\n",
              "      border: none;\n",
              "      border-radius: 50%;\n",
              "      cursor: pointer;\n",
              "      display: none;\n",
              "      fill: #1967D2;\n",
              "      height: 32px;\n",
              "      padding: 0 0 0 0;\n",
              "      width: 32px;\n",
              "    }\n",
              "\n",
              "    .colab-df-convert:hover {\n",
              "      background-color: #E2EBFA;\n",
              "      box-shadow: 0px 1px 2px rgba(60, 64, 67, 0.3), 0px 1px 3px 1px rgba(60, 64, 67, 0.15);\n",
              "      fill: #174EA6;\n",
              "    }\n",
              "\n",
              "    .colab-df-buttons div {\n",
              "      margin-bottom: 4px;\n",
              "    }\n",
              "\n",
              "    [theme=dark] .colab-df-convert {\n",
              "      background-color: #3B4455;\n",
              "      fill: #D2E3FC;\n",
              "    }\n",
              "\n",
              "    [theme=dark] .colab-df-convert:hover {\n",
              "      background-color: #434B5C;\n",
              "      box-shadow: 0px 1px 3px 1px rgba(0, 0, 0, 0.15);\n",
              "      filter: drop-shadow(0px 1px 2px rgba(0, 0, 0, 0.3));\n",
              "      fill: #FFFFFF;\n",
              "    }\n",
              "  </style>\n",
              "\n",
              "    <script>\n",
              "      const buttonEl =\n",
              "        document.querySelector('#df-fc1e58dd-4697-4d7e-8554-c3af7e9940df button.colab-df-convert');\n",
              "      buttonEl.style.display =\n",
              "        google.colab.kernel.accessAllowed ? 'block' : 'none';\n",
              "\n",
              "      async function convertToInteractive(key) {\n",
              "        const element = document.querySelector('#df-fc1e58dd-4697-4d7e-8554-c3af7e9940df');\n",
              "        const dataTable =\n",
              "          await google.colab.kernel.invokeFunction('convertToInteractive',\n",
              "                                                    [key], {});\n",
              "        if (!dataTable) return;\n",
              "\n",
              "        const docLinkHtml = 'Like what you see? Visit the ' +\n",
              "          '<a target=\"_blank\" href=https://colab.research.google.com/notebooks/data_table.ipynb>data table notebook</a>'\n",
              "          + ' to learn more about interactive tables.';\n",
              "        element.innerHTML = '';\n",
              "        dataTable['output_type'] = 'display_data';\n",
              "        await google.colab.output.renderOutput(dataTable, element);\n",
              "        const docLink = document.createElement('div');\n",
              "        docLink.innerHTML = docLinkHtml;\n",
              "        element.appendChild(docLink);\n",
              "      }\n",
              "    </script>\n",
              "  </div>\n",
              "\n",
              "\n",
              "<div id=\"df-f7534d2d-39b2-475a-9dd9-f893bd82e5da\">\n",
              "  <button class=\"colab-df-quickchart\" onclick=\"quickchart('df-f7534d2d-39b2-475a-9dd9-f893bd82e5da')\"\n",
              "            title=\"Suggest charts\"\n",
              "            style=\"display:none;\">\n",
              "\n",
              "<svg xmlns=\"http://www.w3.org/2000/svg\" height=\"24px\"viewBox=\"0 0 24 24\"\n",
              "     width=\"24px\">\n",
              "    <g>\n",
              "        <path d=\"M19 3H5c-1.1 0-2 .9-2 2v14c0 1.1.9 2 2 2h14c1.1 0 2-.9 2-2V5c0-1.1-.9-2-2-2zM9 17H7v-7h2v7zm4 0h-2V7h2v10zm4 0h-2v-4h2v4z\"/>\n",
              "    </g>\n",
              "</svg>\n",
              "  </button>\n",
              "\n",
              "<style>\n",
              "  .colab-df-quickchart {\n",
              "      --bg-color: #E8F0FE;\n",
              "      --fill-color: #1967D2;\n",
              "      --hover-bg-color: #E2EBFA;\n",
              "      --hover-fill-color: #174EA6;\n",
              "      --disabled-fill-color: #AAA;\n",
              "      --disabled-bg-color: #DDD;\n",
              "  }\n",
              "\n",
              "  [theme=dark] .colab-df-quickchart {\n",
              "      --bg-color: #3B4455;\n",
              "      --fill-color: #D2E3FC;\n",
              "      --hover-bg-color: #434B5C;\n",
              "      --hover-fill-color: #FFFFFF;\n",
              "      --disabled-bg-color: #3B4455;\n",
              "      --disabled-fill-color: #666;\n",
              "  }\n",
              "\n",
              "  .colab-df-quickchart {\n",
              "    background-color: var(--bg-color);\n",
              "    border: none;\n",
              "    border-radius: 50%;\n",
              "    cursor: pointer;\n",
              "    display: none;\n",
              "    fill: var(--fill-color);\n",
              "    height: 32px;\n",
              "    padding: 0;\n",
              "    width: 32px;\n",
              "  }\n",
              "\n",
              "  .colab-df-quickchart:hover {\n",
              "    background-color: var(--hover-bg-color);\n",
              "    box-shadow: 0 1px 2px rgba(60, 64, 67, 0.3), 0 1px 3px 1px rgba(60, 64, 67, 0.15);\n",
              "    fill: var(--button-hover-fill-color);\n",
              "  }\n",
              "\n",
              "  .colab-df-quickchart-complete:disabled,\n",
              "  .colab-df-quickchart-complete:disabled:hover {\n",
              "    background-color: var(--disabled-bg-color);\n",
              "    fill: var(--disabled-fill-color);\n",
              "    box-shadow: none;\n",
              "  }\n",
              "\n",
              "  .colab-df-spinner {\n",
              "    border: 2px solid var(--fill-color);\n",
              "    border-color: transparent;\n",
              "    border-bottom-color: var(--fill-color);\n",
              "    animation:\n",
              "      spin 1s steps(1) infinite;\n",
              "  }\n",
              "\n",
              "  @keyframes spin {\n",
              "    0% {\n",
              "      border-color: transparent;\n",
              "      border-bottom-color: var(--fill-color);\n",
              "      border-left-color: var(--fill-color);\n",
              "    }\n",
              "    20% {\n",
              "      border-color: transparent;\n",
              "      border-left-color: var(--fill-color);\n",
              "      border-top-color: var(--fill-color);\n",
              "    }\n",
              "    30% {\n",
              "      border-color: transparent;\n",
              "      border-left-color: var(--fill-color);\n",
              "      border-top-color: var(--fill-color);\n",
              "      border-right-color: var(--fill-color);\n",
              "    }\n",
              "    40% {\n",
              "      border-color: transparent;\n",
              "      border-right-color: var(--fill-color);\n",
              "      border-top-color: var(--fill-color);\n",
              "    }\n",
              "    60% {\n",
              "      border-color: transparent;\n",
              "      border-right-color: var(--fill-color);\n",
              "    }\n",
              "    80% {\n",
              "      border-color: transparent;\n",
              "      border-right-color: var(--fill-color);\n",
              "      border-bottom-color: var(--fill-color);\n",
              "    }\n",
              "    90% {\n",
              "      border-color: transparent;\n",
              "      border-bottom-color: var(--fill-color);\n",
              "    }\n",
              "  }\n",
              "</style>\n",
              "\n",
              "  <script>\n",
              "    async function quickchart(key) {\n",
              "      const quickchartButtonEl =\n",
              "        document.querySelector('#' + key + ' button');\n",
              "      quickchartButtonEl.disabled = true;  // To prevent multiple clicks.\n",
              "      quickchartButtonEl.classList.add('colab-df-spinner');\n",
              "      try {\n",
              "        const charts = await google.colab.kernel.invokeFunction(\n",
              "            'suggestCharts', [key], {});\n",
              "      } catch (error) {\n",
              "        console.error('Error during call to suggestCharts:', error);\n",
              "      }\n",
              "      quickchartButtonEl.classList.remove('colab-df-spinner');\n",
              "      quickchartButtonEl.classList.add('colab-df-quickchart-complete');\n",
              "    }\n",
              "    (() => {\n",
              "      let quickchartButtonEl =\n",
              "        document.querySelector('#df-f7534d2d-39b2-475a-9dd9-f893bd82e5da button');\n",
              "      quickchartButtonEl.style.display =\n",
              "        google.colab.kernel.accessAllowed ? 'block' : 'none';\n",
              "    })();\n",
              "  </script>\n",
              "</div>\n",
              "\n",
              "    </div>\n",
              "  </div>\n"
            ],
            "application/vnd.google.colaboratory.intrinsic+json": {
              "type": "dataframe",
              "variable_name": "df",
              "summary": "{\n  \"name\": \"df\",\n  \"rows\": 19820,\n  \"fields\": [\n    {\n      \"column\": \"selling_price\",\n      \"properties\": {\n        \"dtype\": \"number\",\n        \"std\": 1.0000252279980362,\n        \"min\": -1.2967184783736836,\n        \"max\": 2.953636494022545,\n        \"num_unique_values\": 964,\n        \"samples\": [\n          -1.0966046900846724,\n          2.9221753056575284,\n          0.6466545996494959\n        ],\n        \"semantic_type\": \"\",\n        \"description\": \"\"\n      }\n    },\n    {\n      \"column\": \"year\",\n      \"properties\": {\n        \"dtype\": \"number\",\n        \"std\": 1.0000252279980362,\n        \"min\": -7.058050669336456,\n        \"max\": 2.0142138122928364,\n        \"num_unique_values\": 27,\n        \"samples\": [\n          -0.1756431315487169,\n          1.7013771060297571,\n          -1.114153250337954\n        ],\n        \"semantic_type\": \"\",\n        \"description\": \"\"\n      }\n    },\n    {\n      \"column\": \"km_driven\",\n      \"properties\": {\n        \"dtype\": \"number\",\n        \"std\": 1.0000252279980362,\n        \"min\": -1.1226784261830776,\n        \"max\": 72.35599712942987,\n        \"num_unique_values\": 4476,\n        \"samples\": [\n          1.518756106540607,\n          0.4068784664848833,\n          0.6109805271942427\n        ],\n        \"semantic_type\": \"\",\n        \"description\": \"\"\n      }\n    },\n    {\n      \"column\": \"mileage\",\n      \"properties\": {\n        \"dtype\": \"number\",\n        \"std\": 1.0000252279980362,\n        \"min\": -3.6073926293699374,\n        \"max\": 23.38394396843033,\n        \"num_unique_values\": 532,\n        \"samples\": [\n          0.2342191570928419,\n          -2.4672413420490646,\n          -0.1869387674073179\n        ],\n        \"semantic_type\": \"\",\n        \"description\": \"\"\n      }\n    },\n    {\n      \"column\": \"engine\",\n      \"properties\": {\n        \"dtype\": \"number\",\n        \"std\": 1.0000252279980362,\n        \"min\": -2.845779992071435,\n        \"max\": 10.174939330091336,\n        \"num_unique_values\": 167,\n        \"samples\": [\n          -0.4506772968513284,\n          1.7033723895905872,\n          -2.812996782877601\n        ],\n        \"semantic_type\": \"\",\n        \"description\": \"\"\n      }\n    },\n    {\n      \"column\": \"max_power\",\n      \"properties\": {\n        \"dtype\": \"number\",\n        \"std\": 1.0000252279980364,\n        \"min\": -2.0804661368688278,\n        \"max\": 11.79334329235809,\n        \"num_unique_values\": 484,\n        \"samples\": [\n          -0.2972012920364724,\n          10.653948315078583,\n          0.1201300447396289\n        ],\n        \"semantic_type\": \"\",\n        \"description\": \"\"\n      }\n    },\n    {\n      \"column\": \"age\",\n      \"properties\": {\n        \"dtype\": \"number\",\n        \"std\": 1.0000252279980362,\n        \"min\": -2.0142138122928377,\n        \"max\": 7.058050669336454,\n        \"num_unique_values\": 27,\n        \"samples\": [\n          0.1756431315487155,\n          -1.701377106029759,\n          1.1141532503379528\n        ],\n        \"semantic_type\": \"\",\n        \"description\": \"\"\n      }\n    },\n    {\n      \"column\": \"make\",\n      \"properties\": {\n        \"dtype\": \"number\",\n        \"std\": 1.0000252279980364,\n        \"min\": -1.2916194225397517,\n        \"max\": 3.3607734981578625,\n        \"num_unique_values\": 28,\n        \"samples\": [\n          0.7244753106436638,\n          -0.0847370249230741,\n          3.3607734981578625\n        ],\n        \"semantic_type\": \"\",\n        \"description\": \"\"\n      }\n    },\n    {\n      \"column\": \"model\",\n      \"properties\": {\n        \"dtype\": \"number\",\n        \"std\": 1.0000252279980362,\n        \"min\": -1.3093644088783905,\n        \"max\": 3.010305593731527,\n        \"num_unique_values\": 811,\n        \"samples\": [\n          0.5012128610771729,\n          -0.8233949735222015,\n          -0.8895204042510134\n        ],\n        \"semantic_type\": \"\",\n        \"description\": \"\"\n      }\n    },\n    {\n      \"column\": \"Individual\",\n      \"properties\": {\n        \"dtype\": \"number\",\n        \"std\": 1.0000252279980362,\n        \"min\": -0.800709712517256,\n        \"max\": 1.2488920570929742,\n        \"num_unique_values\": 2,\n        \"samples\": [\n          -0.800709712517256,\n          1.2488920570929742\n        ],\n        \"semantic_type\": \"\",\n        \"description\": \"\"\n      }\n    },\n    {\n      \"column\": \"Trustmark Dealer\",\n      \"properties\": {\n        \"dtype\": \"number\",\n        \"std\": 1.0000252279980357,\n        \"min\": -0.0983822273543098,\n        \"max\": 10.164437489290007,\n        \"num_unique_values\": 2,\n        \"samples\": [\n          10.164437489290007,\n          -0.0983822273543098\n        ],\n        \"semantic_type\": \"\",\n        \"description\": \"\"\n      }\n    },\n    {\n      \"column\": \"Diesel\",\n      \"properties\": {\n        \"dtype\": \"number\",\n        \"std\": 1.0000252279980366,\n        \"min\": -0.9852749008311416,\n        \"max\": 1.014945168253487,\n        \"num_unique_values\": 2,\n        \"samples\": [\n          1.014945168253487,\n          -0.9852749008311416\n        ],\n        \"semantic_type\": \"\",\n        \"description\": \"\"\n      }\n    },\n    {\n      \"column\": \"Electric\",\n      \"properties\": {\n        \"dtype\": \"number\",\n        \"std\": 1.0000252279980357,\n        \"min\": -0.0200946679342115,\n        \"max\": 49.76444513907494,\n        \"num_unique_values\": 2,\n        \"samples\": [\n          49.76444513907494,\n          -0.0200946679342115\n        ],\n        \"semantic_type\": \"\",\n        \"description\": \"\"\n      }\n    },\n    {\n      \"column\": \"LPG\",\n      \"properties\": {\n        \"dtype\": \"number\",\n        \"std\": 1.000025227998036,\n        \"min\": -0.0569168004237751,\n        \"max\": 17.569504830814097,\n        \"num_unique_values\": 2,\n        \"samples\": [\n          17.569504830814097,\n          -0.0569168004237751\n        ],\n        \"semantic_type\": \"\",\n        \"description\": \"\"\n      }\n    },\n    {\n      \"column\": \"Petrol\",\n      \"properties\": {\n        \"dtype\": \"number\",\n        \"std\": 1.000025227998036,\n        \"min\": -0.9759697707407052,\n        \"max\": 1.0246218991404383,\n        \"num_unique_values\": 2,\n        \"samples\": [\n          -0.9759697707407052,\n          1.0246218991404383\n        ],\n        \"semantic_type\": \"\",\n        \"description\": \"\"\n      }\n    },\n    {\n      \"column\": \"Manual\",\n      \"properties\": {\n        \"dtype\": \"number\",\n        \"std\": 1.000025227998036,\n        \"min\": -2.0168682670789857,\n        \"max\": 0.4958182030640464,\n        \"num_unique_values\": 2,\n        \"samples\": [\n          -2.0168682670789857,\n          0.4958182030640464\n        ],\n        \"semantic_type\": \"\",\n        \"description\": \"\"\n      }\n    },\n    {\n      \"column\": \"5\",\n      \"properties\": {\n        \"dtype\": \"number\",\n        \"std\": 1.0000252279980362,\n        \"min\": -2.249702664689426,\n        \"max\": 0.4445031851078201,\n        \"num_unique_values\": 2,\n        \"samples\": [\n          -2.249702664689426,\n          0.4445031851078201\n        ],\n        \"semantic_type\": \"\",\n        \"description\": \"\"\n      }\n    },\n    {\n      \"column\": \">5\",\n      \"properties\": {\n        \"dtype\": \"number\",\n        \"std\": 1.0000252279980366,\n        \"min\": -0.4247284530486916,\n        \"max\": 2.354445511766452,\n        \"num_unique_values\": 2,\n        \"samples\": [\n          2.354445511766452,\n          -0.4247284530486916\n        ],\n        \"semantic_type\": \"\",\n        \"description\": \"\"\n      }\n    }\n  ]\n}"
            }
          },
          "metadata": {},
          "execution_count": 27
        }
      ]
    },
    {
      "cell_type": "code",
      "source": [
        "df.corr()"
      ],
      "metadata": {
        "id": "9Tprmf_iwlsY",
        "colab": {
          "base_uri": "https://localhost:8080/",
          "height": 669
        },
        "outputId": "87cd39c1-4319-489f-dddd-d89161e49b49"
      },
      "execution_count": null,
      "outputs": [
        {
          "output_type": "execute_result",
          "data": {
            "text/plain": [
              "                  selling_price      year  km_driven   mileage    engine  \\\n",
              "selling_price          1.000000  0.390667  -0.100739 -0.314927  0.652296   \n",
              "year                   0.390667  1.000000  -0.310288  0.262772 -0.054552   \n",
              "km_driven             -0.100739 -0.310288   1.000000 -0.090059  0.169491   \n",
              "mileage               -0.314927  0.262772  -0.090059  1.000000 -0.586985   \n",
              "engine                 0.652296 -0.054552   0.169491 -0.586985  1.000000   \n",
              "max_power              0.770390  0.074124   0.007457 -0.473775  0.791340   \n",
              "age                   -0.390667 -1.000000   0.310288 -0.262772  0.054552   \n",
              "make                   0.738939 -0.009793   0.007530 -0.362006  0.589685   \n",
              "model                  0.965051  0.335715  -0.072604 -0.321297  0.662828   \n",
              "Individual            -0.201808 -0.017124   0.091550  0.069013 -0.113243   \n",
              "Trustmark Dealer      -0.019547  0.063389  -0.049455  0.027321 -0.051005   \n",
              "Diesel                 0.335236  0.026316   0.249679  0.108808  0.453970   \n",
              "Electric               0.019073  0.004328  -0.002327  0.228299 -0.001711   \n",
              "LPG                   -0.053388 -0.072595   0.014153 -0.023325 -0.049141   \n",
              "Petrol                -0.313570 -0.025883  -0.249359 -0.159073 -0.425312   \n",
              "Manual                -0.582019 -0.108357   0.084569  0.263190 -0.368639   \n",
              "5                     -0.234645 -0.002936  -0.136180  0.371743 -0.517424   \n",
              ">5                     0.223282  0.023967   0.151401 -0.379429  0.515238   \n",
              "\n",
              "                  max_power       age      make     model  Individual  \\\n",
              "selling_price      0.770390 -0.390667  0.738939  0.965051   -0.201808   \n",
              "year               0.074124 -1.000000 -0.009793  0.335715   -0.017124   \n",
              "km_driven          0.007457  0.310288  0.007530 -0.072604    0.091550   \n",
              "mileage           -0.473775 -0.262772 -0.362006 -0.321297    0.069013   \n",
              "engine             0.791340  0.054552  0.589685  0.662828   -0.113243   \n",
              "max_power          1.000000 -0.074124  0.711360  0.785750   -0.195152   \n",
              "age               -0.074124  1.000000  0.009793 -0.335715    0.017124   \n",
              "make               0.711360  0.009793  1.000000  0.761092   -0.192484   \n",
              "model              0.785750 -0.335715  0.761092  1.000000   -0.194221   \n",
              "Individual        -0.195152  0.017124 -0.192484 -0.194221    1.000000   \n",
              "Trustmark Dealer  -0.031343 -0.063389 -0.031896 -0.022854   -0.078776   \n",
              "Diesel             0.261586 -0.026316  0.245333  0.343207    0.014671   \n",
              "Electric          -0.002934 -0.004328  0.008518  0.019431   -0.005793   \n",
              "LPG               -0.052945  0.072595 -0.024486 -0.054060    0.030982   \n",
              "Petrol            -0.231222  0.025883 -0.229727 -0.321073   -0.007934   \n",
              "Manual            -0.543705  0.108357 -0.563811 -0.596334    0.217977   \n",
              "5                 -0.225431  0.002936 -0.105414 -0.235237   -0.049738   \n",
              ">5                 0.194063 -0.023967  0.073579  0.223754    0.056523   \n",
              "\n",
              "                  Trustmark Dealer    Diesel  Electric       LPG    Petrol  \\\n",
              "selling_price            -0.019547  0.335236  0.019073 -0.053388 -0.313570   \n",
              "year                      0.063389  0.026316  0.004328 -0.072595 -0.025883   \n",
              "km_driven                -0.049455  0.249679 -0.002327  0.014153 -0.249359   \n",
              "mileage                   0.027321  0.108808  0.228299 -0.023325 -0.159073   \n",
              "engine                   -0.051005  0.453970 -0.001711 -0.049141 -0.425312   \n",
              "max_power                -0.031343  0.261586 -0.002934 -0.052945 -0.231222   \n",
              "age                      -0.063389 -0.026316 -0.004328  0.072595  0.025883   \n",
              "make                     -0.031896  0.245333  0.008518 -0.024486 -0.229727   \n",
              "model                    -0.022854  0.343207  0.019431 -0.054060 -0.321073   \n",
              "Individual               -0.078776  0.014671 -0.005793  0.030982 -0.007934   \n",
              "Trustmark Dealer          1.000000 -0.083469 -0.001977 -0.005600  0.070763   \n",
              "Diesel                   -0.083469  1.000000 -0.019799 -0.056079 -0.961599   \n",
              "Electric                 -0.001977 -0.019799  1.000000 -0.001144 -0.019612   \n",
              "LPG                      -0.005600 -0.056079 -0.001144  1.000000 -0.055549   \n",
              "Petrol                    0.070763 -0.961599 -0.019612 -0.055549  1.000000   \n",
              "Manual                    0.013651 -0.041462 -0.040528  0.028220  0.024080   \n",
              "5                         0.026990 -0.288280  0.002165  0.025300  0.291865   \n",
              ">5                       -0.030273  0.314680 -0.008535 -0.024174 -0.314375   \n",
              "\n",
              "                    Manual         5        >5  \n",
              "selling_price    -0.582019 -0.234645  0.223282  \n",
              "year             -0.108357 -0.002936  0.023967  \n",
              "km_driven         0.084569 -0.136180  0.151401  \n",
              "mileage           0.263190  0.371743 -0.379429  \n",
              "engine           -0.368639 -0.517424  0.515238  \n",
              "max_power        -0.543705 -0.225431  0.194063  \n",
              "age               0.108357  0.002936 -0.023967  \n",
              "make             -0.563811 -0.105414  0.073579  \n",
              "model            -0.596334 -0.235237  0.223754  \n",
              "Individual        0.217977 -0.049738  0.056523  \n",
              "Trustmark Dealer  0.013651  0.026990 -0.030273  \n",
              "Diesel           -0.041462 -0.288280  0.314680  \n",
              "Electric         -0.040528  0.002165 -0.008535  \n",
              "LPG               0.028220  0.025300 -0.024174  \n",
              "Petrol            0.024080  0.291865 -0.314375  \n",
              "Manual            1.000000 -0.017165  0.044993  \n",
              "5                -0.017165  1.000000 -0.955513  \n",
              ">5                0.044993 -0.955513  1.000000  "
            ],
            "text/html": [
              "\n",
              "  <div id=\"df-895b9d77-418c-4890-b6be-4aeea92a434c\" class=\"colab-df-container\">\n",
              "    <div>\n",
              "<style scoped>\n",
              "    .dataframe tbody tr th:only-of-type {\n",
              "        vertical-align: middle;\n",
              "    }\n",
              "\n",
              "    .dataframe tbody tr th {\n",
              "        vertical-align: top;\n",
              "    }\n",
              "\n",
              "    .dataframe thead th {\n",
              "        text-align: right;\n",
              "    }\n",
              "</style>\n",
              "<table border=\"1\" class=\"dataframe\">\n",
              "  <thead>\n",
              "    <tr style=\"text-align: right;\">\n",
              "      <th></th>\n",
              "      <th>selling_price</th>\n",
              "      <th>year</th>\n",
              "      <th>km_driven</th>\n",
              "      <th>mileage</th>\n",
              "      <th>engine</th>\n",
              "      <th>max_power</th>\n",
              "      <th>age</th>\n",
              "      <th>make</th>\n",
              "      <th>model</th>\n",
              "      <th>Individual</th>\n",
              "      <th>Trustmark Dealer</th>\n",
              "      <th>Diesel</th>\n",
              "      <th>Electric</th>\n",
              "      <th>LPG</th>\n",
              "      <th>Petrol</th>\n",
              "      <th>Manual</th>\n",
              "      <th>5</th>\n",
              "      <th>&gt;5</th>\n",
              "    </tr>\n",
              "  </thead>\n",
              "  <tbody>\n",
              "    <tr>\n",
              "      <th>selling_price</th>\n",
              "      <td>1.000000</td>\n",
              "      <td>0.390667</td>\n",
              "      <td>-0.100739</td>\n",
              "      <td>-0.314927</td>\n",
              "      <td>0.652296</td>\n",
              "      <td>0.770390</td>\n",
              "      <td>-0.390667</td>\n",
              "      <td>0.738939</td>\n",
              "      <td>0.965051</td>\n",
              "      <td>-0.201808</td>\n",
              "      <td>-0.019547</td>\n",
              "      <td>0.335236</td>\n",
              "      <td>0.019073</td>\n",
              "      <td>-0.053388</td>\n",
              "      <td>-0.313570</td>\n",
              "      <td>-0.582019</td>\n",
              "      <td>-0.234645</td>\n",
              "      <td>0.223282</td>\n",
              "    </tr>\n",
              "    <tr>\n",
              "      <th>year</th>\n",
              "      <td>0.390667</td>\n",
              "      <td>1.000000</td>\n",
              "      <td>-0.310288</td>\n",
              "      <td>0.262772</td>\n",
              "      <td>-0.054552</td>\n",
              "      <td>0.074124</td>\n",
              "      <td>-1.000000</td>\n",
              "      <td>-0.009793</td>\n",
              "      <td>0.335715</td>\n",
              "      <td>-0.017124</td>\n",
              "      <td>0.063389</td>\n",
              "      <td>0.026316</td>\n",
              "      <td>0.004328</td>\n",
              "      <td>-0.072595</td>\n",
              "      <td>-0.025883</td>\n",
              "      <td>-0.108357</td>\n",
              "      <td>-0.002936</td>\n",
              "      <td>0.023967</td>\n",
              "    </tr>\n",
              "    <tr>\n",
              "      <th>km_driven</th>\n",
              "      <td>-0.100739</td>\n",
              "      <td>-0.310288</td>\n",
              "      <td>1.000000</td>\n",
              "      <td>-0.090059</td>\n",
              "      <td>0.169491</td>\n",
              "      <td>0.007457</td>\n",
              "      <td>0.310288</td>\n",
              "      <td>0.007530</td>\n",
              "      <td>-0.072604</td>\n",
              "      <td>0.091550</td>\n",
              "      <td>-0.049455</td>\n",
              "      <td>0.249679</td>\n",
              "      <td>-0.002327</td>\n",
              "      <td>0.014153</td>\n",
              "      <td>-0.249359</td>\n",
              "      <td>0.084569</td>\n",
              "      <td>-0.136180</td>\n",
              "      <td>0.151401</td>\n",
              "    </tr>\n",
              "    <tr>\n",
              "      <th>mileage</th>\n",
              "      <td>-0.314927</td>\n",
              "      <td>0.262772</td>\n",
              "      <td>-0.090059</td>\n",
              "      <td>1.000000</td>\n",
              "      <td>-0.586985</td>\n",
              "      <td>-0.473775</td>\n",
              "      <td>-0.262772</td>\n",
              "      <td>-0.362006</td>\n",
              "      <td>-0.321297</td>\n",
              "      <td>0.069013</td>\n",
              "      <td>0.027321</td>\n",
              "      <td>0.108808</td>\n",
              "      <td>0.228299</td>\n",
              "      <td>-0.023325</td>\n",
              "      <td>-0.159073</td>\n",
              "      <td>0.263190</td>\n",
              "      <td>0.371743</td>\n",
              "      <td>-0.379429</td>\n",
              "    </tr>\n",
              "    <tr>\n",
              "      <th>engine</th>\n",
              "      <td>0.652296</td>\n",
              "      <td>-0.054552</td>\n",
              "      <td>0.169491</td>\n",
              "      <td>-0.586985</td>\n",
              "      <td>1.000000</td>\n",
              "      <td>0.791340</td>\n",
              "      <td>0.054552</td>\n",
              "      <td>0.589685</td>\n",
              "      <td>0.662828</td>\n",
              "      <td>-0.113243</td>\n",
              "      <td>-0.051005</td>\n",
              "      <td>0.453970</td>\n",
              "      <td>-0.001711</td>\n",
              "      <td>-0.049141</td>\n",
              "      <td>-0.425312</td>\n",
              "      <td>-0.368639</td>\n",
              "      <td>-0.517424</td>\n",
              "      <td>0.515238</td>\n",
              "    </tr>\n",
              "    <tr>\n",
              "      <th>max_power</th>\n",
              "      <td>0.770390</td>\n",
              "      <td>0.074124</td>\n",
              "      <td>0.007457</td>\n",
              "      <td>-0.473775</td>\n",
              "      <td>0.791340</td>\n",
              "      <td>1.000000</td>\n",
              "      <td>-0.074124</td>\n",
              "      <td>0.711360</td>\n",
              "      <td>0.785750</td>\n",
              "      <td>-0.195152</td>\n",
              "      <td>-0.031343</td>\n",
              "      <td>0.261586</td>\n",
              "      <td>-0.002934</td>\n",
              "      <td>-0.052945</td>\n",
              "      <td>-0.231222</td>\n",
              "      <td>-0.543705</td>\n",
              "      <td>-0.225431</td>\n",
              "      <td>0.194063</td>\n",
              "    </tr>\n",
              "    <tr>\n",
              "      <th>age</th>\n",
              "      <td>-0.390667</td>\n",
              "      <td>-1.000000</td>\n",
              "      <td>0.310288</td>\n",
              "      <td>-0.262772</td>\n",
              "      <td>0.054552</td>\n",
              "      <td>-0.074124</td>\n",
              "      <td>1.000000</td>\n",
              "      <td>0.009793</td>\n",
              "      <td>-0.335715</td>\n",
              "      <td>0.017124</td>\n",
              "      <td>-0.063389</td>\n",
              "      <td>-0.026316</td>\n",
              "      <td>-0.004328</td>\n",
              "      <td>0.072595</td>\n",
              "      <td>0.025883</td>\n",
              "      <td>0.108357</td>\n",
              "      <td>0.002936</td>\n",
              "      <td>-0.023967</td>\n",
              "    </tr>\n",
              "    <tr>\n",
              "      <th>make</th>\n",
              "      <td>0.738939</td>\n",
              "      <td>-0.009793</td>\n",
              "      <td>0.007530</td>\n",
              "      <td>-0.362006</td>\n",
              "      <td>0.589685</td>\n",
              "      <td>0.711360</td>\n",
              "      <td>0.009793</td>\n",
              "      <td>1.000000</td>\n",
              "      <td>0.761092</td>\n",
              "      <td>-0.192484</td>\n",
              "      <td>-0.031896</td>\n",
              "      <td>0.245333</td>\n",
              "      <td>0.008518</td>\n",
              "      <td>-0.024486</td>\n",
              "      <td>-0.229727</td>\n",
              "      <td>-0.563811</td>\n",
              "      <td>-0.105414</td>\n",
              "      <td>0.073579</td>\n",
              "    </tr>\n",
              "    <tr>\n",
              "      <th>model</th>\n",
              "      <td>0.965051</td>\n",
              "      <td>0.335715</td>\n",
              "      <td>-0.072604</td>\n",
              "      <td>-0.321297</td>\n",
              "      <td>0.662828</td>\n",
              "      <td>0.785750</td>\n",
              "      <td>-0.335715</td>\n",
              "      <td>0.761092</td>\n",
              "      <td>1.000000</td>\n",
              "      <td>-0.194221</td>\n",
              "      <td>-0.022854</td>\n",
              "      <td>0.343207</td>\n",
              "      <td>0.019431</td>\n",
              "      <td>-0.054060</td>\n",
              "      <td>-0.321073</td>\n",
              "      <td>-0.596334</td>\n",
              "      <td>-0.235237</td>\n",
              "      <td>0.223754</td>\n",
              "    </tr>\n",
              "    <tr>\n",
              "      <th>Individual</th>\n",
              "      <td>-0.201808</td>\n",
              "      <td>-0.017124</td>\n",
              "      <td>0.091550</td>\n",
              "      <td>0.069013</td>\n",
              "      <td>-0.113243</td>\n",
              "      <td>-0.195152</td>\n",
              "      <td>0.017124</td>\n",
              "      <td>-0.192484</td>\n",
              "      <td>-0.194221</td>\n",
              "      <td>1.000000</td>\n",
              "      <td>-0.078776</td>\n",
              "      <td>0.014671</td>\n",
              "      <td>-0.005793</td>\n",
              "      <td>0.030982</td>\n",
              "      <td>-0.007934</td>\n",
              "      <td>0.217977</td>\n",
              "      <td>-0.049738</td>\n",
              "      <td>0.056523</td>\n",
              "    </tr>\n",
              "    <tr>\n",
              "      <th>Trustmark Dealer</th>\n",
              "      <td>-0.019547</td>\n",
              "      <td>0.063389</td>\n",
              "      <td>-0.049455</td>\n",
              "      <td>0.027321</td>\n",
              "      <td>-0.051005</td>\n",
              "      <td>-0.031343</td>\n",
              "      <td>-0.063389</td>\n",
              "      <td>-0.031896</td>\n",
              "      <td>-0.022854</td>\n",
              "      <td>-0.078776</td>\n",
              "      <td>1.000000</td>\n",
              "      <td>-0.083469</td>\n",
              "      <td>-0.001977</td>\n",
              "      <td>-0.005600</td>\n",
              "      <td>0.070763</td>\n",
              "      <td>0.013651</td>\n",
              "      <td>0.026990</td>\n",
              "      <td>-0.030273</td>\n",
              "    </tr>\n",
              "    <tr>\n",
              "      <th>Diesel</th>\n",
              "      <td>0.335236</td>\n",
              "      <td>0.026316</td>\n",
              "      <td>0.249679</td>\n",
              "      <td>0.108808</td>\n",
              "      <td>0.453970</td>\n",
              "      <td>0.261586</td>\n",
              "      <td>-0.026316</td>\n",
              "      <td>0.245333</td>\n",
              "      <td>0.343207</td>\n",
              "      <td>0.014671</td>\n",
              "      <td>-0.083469</td>\n",
              "      <td>1.000000</td>\n",
              "      <td>-0.019799</td>\n",
              "      <td>-0.056079</td>\n",
              "      <td>-0.961599</td>\n",
              "      <td>-0.041462</td>\n",
              "      <td>-0.288280</td>\n",
              "      <td>0.314680</td>\n",
              "    </tr>\n",
              "    <tr>\n",
              "      <th>Electric</th>\n",
              "      <td>0.019073</td>\n",
              "      <td>0.004328</td>\n",
              "      <td>-0.002327</td>\n",
              "      <td>0.228299</td>\n",
              "      <td>-0.001711</td>\n",
              "      <td>-0.002934</td>\n",
              "      <td>-0.004328</td>\n",
              "      <td>0.008518</td>\n",
              "      <td>0.019431</td>\n",
              "      <td>-0.005793</td>\n",
              "      <td>-0.001977</td>\n",
              "      <td>-0.019799</td>\n",
              "      <td>1.000000</td>\n",
              "      <td>-0.001144</td>\n",
              "      <td>-0.019612</td>\n",
              "      <td>-0.040528</td>\n",
              "      <td>0.002165</td>\n",
              "      <td>-0.008535</td>\n",
              "    </tr>\n",
              "    <tr>\n",
              "      <th>LPG</th>\n",
              "      <td>-0.053388</td>\n",
              "      <td>-0.072595</td>\n",
              "      <td>0.014153</td>\n",
              "      <td>-0.023325</td>\n",
              "      <td>-0.049141</td>\n",
              "      <td>-0.052945</td>\n",
              "      <td>0.072595</td>\n",
              "      <td>-0.024486</td>\n",
              "      <td>-0.054060</td>\n",
              "      <td>0.030982</td>\n",
              "      <td>-0.005600</td>\n",
              "      <td>-0.056079</td>\n",
              "      <td>-0.001144</td>\n",
              "      <td>1.000000</td>\n",
              "      <td>-0.055549</td>\n",
              "      <td>0.028220</td>\n",
              "      <td>0.025300</td>\n",
              "      <td>-0.024174</td>\n",
              "    </tr>\n",
              "    <tr>\n",
              "      <th>Petrol</th>\n",
              "      <td>-0.313570</td>\n",
              "      <td>-0.025883</td>\n",
              "      <td>-0.249359</td>\n",
              "      <td>-0.159073</td>\n",
              "      <td>-0.425312</td>\n",
              "      <td>-0.231222</td>\n",
              "      <td>0.025883</td>\n",
              "      <td>-0.229727</td>\n",
              "      <td>-0.321073</td>\n",
              "      <td>-0.007934</td>\n",
              "      <td>0.070763</td>\n",
              "      <td>-0.961599</td>\n",
              "      <td>-0.019612</td>\n",
              "      <td>-0.055549</td>\n",
              "      <td>1.000000</td>\n",
              "      <td>0.024080</td>\n",
              "      <td>0.291865</td>\n",
              "      <td>-0.314375</td>\n",
              "    </tr>\n",
              "    <tr>\n",
              "      <th>Manual</th>\n",
              "      <td>-0.582019</td>\n",
              "      <td>-0.108357</td>\n",
              "      <td>0.084569</td>\n",
              "      <td>0.263190</td>\n",
              "      <td>-0.368639</td>\n",
              "      <td>-0.543705</td>\n",
              "      <td>0.108357</td>\n",
              "      <td>-0.563811</td>\n",
              "      <td>-0.596334</td>\n",
              "      <td>0.217977</td>\n",
              "      <td>0.013651</td>\n",
              "      <td>-0.041462</td>\n",
              "      <td>-0.040528</td>\n",
              "      <td>0.028220</td>\n",
              "      <td>0.024080</td>\n",
              "      <td>1.000000</td>\n",
              "      <td>-0.017165</td>\n",
              "      <td>0.044993</td>\n",
              "    </tr>\n",
              "    <tr>\n",
              "      <th>5</th>\n",
              "      <td>-0.234645</td>\n",
              "      <td>-0.002936</td>\n",
              "      <td>-0.136180</td>\n",
              "      <td>0.371743</td>\n",
              "      <td>-0.517424</td>\n",
              "      <td>-0.225431</td>\n",
              "      <td>0.002936</td>\n",
              "      <td>-0.105414</td>\n",
              "      <td>-0.235237</td>\n",
              "      <td>-0.049738</td>\n",
              "      <td>0.026990</td>\n",
              "      <td>-0.288280</td>\n",
              "      <td>0.002165</td>\n",
              "      <td>0.025300</td>\n",
              "      <td>0.291865</td>\n",
              "      <td>-0.017165</td>\n",
              "      <td>1.000000</td>\n",
              "      <td>-0.955513</td>\n",
              "    </tr>\n",
              "    <tr>\n",
              "      <th>&gt;5</th>\n",
              "      <td>0.223282</td>\n",
              "      <td>0.023967</td>\n",
              "      <td>0.151401</td>\n",
              "      <td>-0.379429</td>\n",
              "      <td>0.515238</td>\n",
              "      <td>0.194063</td>\n",
              "      <td>-0.023967</td>\n",
              "      <td>0.073579</td>\n",
              "      <td>0.223754</td>\n",
              "      <td>0.056523</td>\n",
              "      <td>-0.030273</td>\n",
              "      <td>0.314680</td>\n",
              "      <td>-0.008535</td>\n",
              "      <td>-0.024174</td>\n",
              "      <td>-0.314375</td>\n",
              "      <td>0.044993</td>\n",
              "      <td>-0.955513</td>\n",
              "      <td>1.000000</td>\n",
              "    </tr>\n",
              "  </tbody>\n",
              "</table>\n",
              "</div>\n",
              "    <div class=\"colab-df-buttons\">\n",
              "\n",
              "  <div class=\"colab-df-container\">\n",
              "    <button class=\"colab-df-convert\" onclick=\"convertToInteractive('df-895b9d77-418c-4890-b6be-4aeea92a434c')\"\n",
              "            title=\"Convert this dataframe to an interactive table.\"\n",
              "            style=\"display:none;\">\n",
              "\n",
              "  <svg xmlns=\"http://www.w3.org/2000/svg\" height=\"24px\" viewBox=\"0 -960 960 960\">\n",
              "    <path d=\"M120-120v-720h720v720H120Zm60-500h600v-160H180v160Zm220 220h160v-160H400v160Zm0 220h160v-160H400v160ZM180-400h160v-160H180v160Zm440 0h160v-160H620v160ZM180-180h160v-160H180v160Zm440 0h160v-160H620v160Z\"/>\n",
              "  </svg>\n",
              "    </button>\n",
              "\n",
              "  <style>\n",
              "    .colab-df-container {\n",
              "      display:flex;\n",
              "      gap: 12px;\n",
              "    }\n",
              "\n",
              "    .colab-df-convert {\n",
              "      background-color: #E8F0FE;\n",
              "      border: none;\n",
              "      border-radius: 50%;\n",
              "      cursor: pointer;\n",
              "      display: none;\n",
              "      fill: #1967D2;\n",
              "      height: 32px;\n",
              "      padding: 0 0 0 0;\n",
              "      width: 32px;\n",
              "    }\n",
              "\n",
              "    .colab-df-convert:hover {\n",
              "      background-color: #E2EBFA;\n",
              "      box-shadow: 0px 1px 2px rgba(60, 64, 67, 0.3), 0px 1px 3px 1px rgba(60, 64, 67, 0.15);\n",
              "      fill: #174EA6;\n",
              "    }\n",
              "\n",
              "    .colab-df-buttons div {\n",
              "      margin-bottom: 4px;\n",
              "    }\n",
              "\n",
              "    [theme=dark] .colab-df-convert {\n",
              "      background-color: #3B4455;\n",
              "      fill: #D2E3FC;\n",
              "    }\n",
              "\n",
              "    [theme=dark] .colab-df-convert:hover {\n",
              "      background-color: #434B5C;\n",
              "      box-shadow: 0px 1px 3px 1px rgba(0, 0, 0, 0.15);\n",
              "      filter: drop-shadow(0px 1px 2px rgba(0, 0, 0, 0.3));\n",
              "      fill: #FFFFFF;\n",
              "    }\n",
              "  </style>\n",
              "\n",
              "    <script>\n",
              "      const buttonEl =\n",
              "        document.querySelector('#df-895b9d77-418c-4890-b6be-4aeea92a434c button.colab-df-convert');\n",
              "      buttonEl.style.display =\n",
              "        google.colab.kernel.accessAllowed ? 'block' : 'none';\n",
              "\n",
              "      async function convertToInteractive(key) {\n",
              "        const element = document.querySelector('#df-895b9d77-418c-4890-b6be-4aeea92a434c');\n",
              "        const dataTable =\n",
              "          await google.colab.kernel.invokeFunction('convertToInteractive',\n",
              "                                                    [key], {});\n",
              "        if (!dataTable) return;\n",
              "\n",
              "        const docLinkHtml = 'Like what you see? Visit the ' +\n",
              "          '<a target=\"_blank\" href=https://colab.research.google.com/notebooks/data_table.ipynb>data table notebook</a>'\n",
              "          + ' to learn more about interactive tables.';\n",
              "        element.innerHTML = '';\n",
              "        dataTable['output_type'] = 'display_data';\n",
              "        await google.colab.output.renderOutput(dataTable, element);\n",
              "        const docLink = document.createElement('div');\n",
              "        docLink.innerHTML = docLinkHtml;\n",
              "        element.appendChild(docLink);\n",
              "      }\n",
              "    </script>\n",
              "  </div>\n",
              "\n",
              "\n",
              "<div id=\"df-0695f856-de54-47b4-8a47-bc51b753ad38\">\n",
              "  <button class=\"colab-df-quickchart\" onclick=\"quickchart('df-0695f856-de54-47b4-8a47-bc51b753ad38')\"\n",
              "            title=\"Suggest charts\"\n",
              "            style=\"display:none;\">\n",
              "\n",
              "<svg xmlns=\"http://www.w3.org/2000/svg\" height=\"24px\"viewBox=\"0 0 24 24\"\n",
              "     width=\"24px\">\n",
              "    <g>\n",
              "        <path d=\"M19 3H5c-1.1 0-2 .9-2 2v14c0 1.1.9 2 2 2h14c1.1 0 2-.9 2-2V5c0-1.1-.9-2-2-2zM9 17H7v-7h2v7zm4 0h-2V7h2v10zm4 0h-2v-4h2v4z\"/>\n",
              "    </g>\n",
              "</svg>\n",
              "  </button>\n",
              "\n",
              "<style>\n",
              "  .colab-df-quickchart {\n",
              "      --bg-color: #E8F0FE;\n",
              "      --fill-color: #1967D2;\n",
              "      --hover-bg-color: #E2EBFA;\n",
              "      --hover-fill-color: #174EA6;\n",
              "      --disabled-fill-color: #AAA;\n",
              "      --disabled-bg-color: #DDD;\n",
              "  }\n",
              "\n",
              "  [theme=dark] .colab-df-quickchart {\n",
              "      --bg-color: #3B4455;\n",
              "      --fill-color: #D2E3FC;\n",
              "      --hover-bg-color: #434B5C;\n",
              "      --hover-fill-color: #FFFFFF;\n",
              "      --disabled-bg-color: #3B4455;\n",
              "      --disabled-fill-color: #666;\n",
              "  }\n",
              "\n",
              "  .colab-df-quickchart {\n",
              "    background-color: var(--bg-color);\n",
              "    border: none;\n",
              "    border-radius: 50%;\n",
              "    cursor: pointer;\n",
              "    display: none;\n",
              "    fill: var(--fill-color);\n",
              "    height: 32px;\n",
              "    padding: 0;\n",
              "    width: 32px;\n",
              "  }\n",
              "\n",
              "  .colab-df-quickchart:hover {\n",
              "    background-color: var(--hover-bg-color);\n",
              "    box-shadow: 0 1px 2px rgba(60, 64, 67, 0.3), 0 1px 3px 1px rgba(60, 64, 67, 0.15);\n",
              "    fill: var(--button-hover-fill-color);\n",
              "  }\n",
              "\n",
              "  .colab-df-quickchart-complete:disabled,\n",
              "  .colab-df-quickchart-complete:disabled:hover {\n",
              "    background-color: var(--disabled-bg-color);\n",
              "    fill: var(--disabled-fill-color);\n",
              "    box-shadow: none;\n",
              "  }\n",
              "\n",
              "  .colab-df-spinner {\n",
              "    border: 2px solid var(--fill-color);\n",
              "    border-color: transparent;\n",
              "    border-bottom-color: var(--fill-color);\n",
              "    animation:\n",
              "      spin 1s steps(1) infinite;\n",
              "  }\n",
              "\n",
              "  @keyframes spin {\n",
              "    0% {\n",
              "      border-color: transparent;\n",
              "      border-bottom-color: var(--fill-color);\n",
              "      border-left-color: var(--fill-color);\n",
              "    }\n",
              "    20% {\n",
              "      border-color: transparent;\n",
              "      border-left-color: var(--fill-color);\n",
              "      border-top-color: var(--fill-color);\n",
              "    }\n",
              "    30% {\n",
              "      border-color: transparent;\n",
              "      border-left-color: var(--fill-color);\n",
              "      border-top-color: var(--fill-color);\n",
              "      border-right-color: var(--fill-color);\n",
              "    }\n",
              "    40% {\n",
              "      border-color: transparent;\n",
              "      border-right-color: var(--fill-color);\n",
              "      border-top-color: var(--fill-color);\n",
              "    }\n",
              "    60% {\n",
              "      border-color: transparent;\n",
              "      border-right-color: var(--fill-color);\n",
              "    }\n",
              "    80% {\n",
              "      border-color: transparent;\n",
              "      border-right-color: var(--fill-color);\n",
              "      border-bottom-color: var(--fill-color);\n",
              "    }\n",
              "    90% {\n",
              "      border-color: transparent;\n",
              "      border-bottom-color: var(--fill-color);\n",
              "    }\n",
              "  }\n",
              "</style>\n",
              "\n",
              "  <script>\n",
              "    async function quickchart(key) {\n",
              "      const quickchartButtonEl =\n",
              "        document.querySelector('#' + key + ' button');\n",
              "      quickchartButtonEl.disabled = true;  // To prevent multiple clicks.\n",
              "      quickchartButtonEl.classList.add('colab-df-spinner');\n",
              "      try {\n",
              "        const charts = await google.colab.kernel.invokeFunction(\n",
              "            'suggestCharts', [key], {});\n",
              "      } catch (error) {\n",
              "        console.error('Error during call to suggestCharts:', error);\n",
              "      }\n",
              "      quickchartButtonEl.classList.remove('colab-df-spinner');\n",
              "      quickchartButtonEl.classList.add('colab-df-quickchart-complete');\n",
              "    }\n",
              "    (() => {\n",
              "      let quickchartButtonEl =\n",
              "        document.querySelector('#df-0695f856-de54-47b4-8a47-bc51b753ad38 button');\n",
              "      quickchartButtonEl.style.display =\n",
              "        google.colab.kernel.accessAllowed ? 'block' : 'none';\n",
              "    })();\n",
              "  </script>\n",
              "</div>\n",
              "\n",
              "    </div>\n",
              "  </div>\n"
            ],
            "application/vnd.google.colaboratory.intrinsic+json": {
              "type": "dataframe",
              "summary": "{\n  \"name\": \"df\",\n  \"rows\": 18,\n  \"fields\": [\n    {\n      \"column\": \"selling_price\",\n      \"properties\": {\n        \"dtype\": \"number\",\n        \"std\": 0.4939424612582431,\n        \"min\": -0.5820187299700481,\n        \"max\": 1.0,\n        \"num_unique_values\": 18,\n        \"samples\": [\n          1.0,\n          0.3906673599813471,\n          0.9650511193494626\n        ],\n        \"semantic_type\": \"\",\n        \"description\": \"\"\n      }\n    },\n    {\n      \"column\": \"year\",\n      \"properties\": {\n        \"dtype\": \"number\",\n        \"std\": 0.37915023626550076,\n        \"min\": -1.0,\n        \"max\": 1.0,\n        \"num_unique_values\": 18,\n        \"samples\": [\n          0.3906673599813471,\n          1.0,\n          0.33571480782376056\n        ],\n        \"semantic_type\": \"\",\n        \"description\": \"\"\n      }\n    },\n    {\n      \"column\": \"km_driven\",\n      \"properties\": {\n        \"dtype\": \"number\",\n        \"std\": 0.28335013308346985,\n        \"min\": -0.31028750446648234,\n        \"max\": 1.0,\n        \"num_unique_values\": 18,\n        \"samples\": [\n          -0.10073918448009658,\n          -0.31028750446648234,\n          -0.07260357615812274\n        ],\n        \"semantic_type\": \"\",\n        \"description\": \"\"\n      }\n    },\n    {\n      \"column\": \"mileage\",\n      \"properties\": {\n        \"dtype\": \"number\",\n        \"std\": 0.3813669870855406,\n        \"min\": -0.586985024853876,\n        \"max\": 1.0,\n        \"num_unique_values\": 18,\n        \"samples\": [\n          -0.31492700945151514,\n          0.2627720175073016,\n          -0.3212967721273219\n        ],\n        \"semantic_type\": \"\",\n        \"description\": \"\"\n      }\n    },\n    {\n      \"column\": \"engine\",\n      \"properties\": {\n        \"dtype\": \"number\",\n        \"std\": 0.47776951178020916,\n        \"min\": -0.586985024853876,\n        \"max\": 1.0,\n        \"num_unique_values\": 18,\n        \"samples\": [\n          0.6522961339211357,\n          -0.054551910809998765,\n          0.6628281904690063\n        ],\n        \"semantic_type\": \"\",\n        \"description\": \"\"\n      }\n    },\n    {\n      \"column\": \"max_power\",\n      \"properties\": {\n        \"dtype\": \"number\",\n        \"std\": 0.4666309971542301,\n        \"min\": -0.5437046316393412,\n        \"max\": 1.0,\n        \"num_unique_values\": 18,\n        \"samples\": [\n          0.770389854574798,\n          0.07412411821047331,\n          0.7857495791148512\n        ],\n        \"semantic_type\": \"\",\n        \"description\": \"\"\n      }\n    },\n    {\n      \"column\": \"age\",\n      \"properties\": {\n        \"dtype\": \"number\",\n        \"std\": 0.37915023626550076,\n        \"min\": -1.0,\n        \"max\": 1.0,\n        \"num_unique_values\": 18,\n        \"samples\": [\n          -0.3906673599813472,\n          -1.0,\n          -0.33571480782376056\n        ],\n        \"semantic_type\": \"\",\n        \"description\": \"\"\n      }\n    },\n    {\n      \"column\": \"make\",\n      \"properties\": {\n        \"dtype\": \"number\",\n        \"std\": 0.4347613182863616,\n        \"min\": -0.5638109274574874,\n        \"max\": 1.0,\n        \"num_unique_values\": 18,\n        \"samples\": [\n          0.7389393887243103,\n          -0.009792788354754866,\n          0.7610923255413499\n        ],\n        \"semantic_type\": \"\",\n        \"description\": \"\"\n      }\n    },\n    {\n      \"column\": \"model\",\n      \"properties\": {\n        \"dtype\": \"number\",\n        \"std\": 0.4936870210828473,\n        \"min\": -0.5963335400574215,\n        \"max\": 1.0,\n        \"num_unique_values\": 18,\n        \"samples\": [\n          0.9650511193494626,\n          0.33571480782376056,\n          1.0\n        ],\n        \"semantic_type\": \"\",\n        \"description\": \"\"\n      }\n    },\n    {\n      \"column\": \"Individual\",\n      \"properties\": {\n        \"dtype\": \"number\",\n        \"std\": 0.2689811955963288,\n        \"min\": -0.20180767099047853,\n        \"max\": 1.0,\n        \"num_unique_values\": 18,\n        \"samples\": [\n          -0.20180767099047853,\n          -0.01712422869021213,\n          -0.19422080881282314\n        ],\n        \"semantic_type\": \"\",\n        \"description\": \"\"\n      }\n    },\n    {\n      \"column\": \"Trustmark Dealer\",\n      \"properties\": {\n        \"dtype\": \"number\",\n        \"std\": 0.243379373004378,\n        \"min\": -0.08346922681196316,\n        \"max\": 1.0,\n        \"num_unique_values\": 18,\n        \"samples\": [\n          -0.019547340026841307,\n          0.06338947347903216,\n          -0.02285353076293188\n        ],\n        \"semantic_type\": \"\",\n        \"description\": \"\"\n      }\n    },\n    {\n      \"column\": \"Diesel\",\n      \"properties\": {\n        \"dtype\": \"number\",\n        \"std\": 0.3883645880402819,\n        \"min\": -0.9615985190807429,\n        \"max\": 1.0,\n        \"num_unique_values\": 18,\n        \"samples\": [\n          0.3352359217545127,\n          0.02631570124502808,\n          0.3432071168469627\n        ],\n        \"semantic_type\": \"\",\n        \"description\": \"\"\n      }\n    },\n    {\n      \"column\": \"Electric\",\n      \"properties\": {\n        \"dtype\": \"number\",\n        \"std\": 0.23998373063047018,\n        \"min\": -0.04052829809400063,\n        \"max\": 1.0,\n        \"num_unique_values\": 18,\n        \"samples\": [\n          0.019072777497445605,\n          0.004328446759089843,\n          0.019431087817985065\n        ],\n        \"semantic_type\": \"\",\n        \"description\": \"\"\n      }\n    },\n    {\n      \"column\": \"LPG\",\n      \"properties\": {\n        \"dtype\": \"number\",\n        \"std\": 0.24314031445491122,\n        \"min\": -0.07259508388465843,\n        \"max\": 1.0,\n        \"num_unique_values\": 18,\n        \"samples\": [\n          -0.05338849127088959,\n          -0.07259508388465843,\n          -0.05405999704810431\n        ],\n        \"semantic_type\": \"\",\n        \"description\": \"\"\n      }\n    },\n    {\n      \"column\": \"Petrol\",\n      \"properties\": {\n        \"dtype\": \"number\",\n        \"std\": 0.3830421400353961,\n        \"min\": -0.9615985190807429,\n        \"max\": 1.0,\n        \"num_unique_values\": 18,\n        \"samples\": [\n          -0.3135700751611778,\n          -0.0258834430326601,\n          -0.3210730472606273\n        ],\n        \"semantic_type\": \"\",\n        \"description\": \"\"\n      }\n    },\n    {\n      \"column\": \"Manual\",\n      \"properties\": {\n        \"dtype\": \"number\",\n        \"std\": 0.38607942865953954,\n        \"min\": -0.5963335400574215,\n        \"max\": 1.0,\n        \"num_unique_values\": 18,\n        \"samples\": [\n          -0.5820187299700481,\n          -0.10835725880575979,\n          -0.5963335400574215\n        ],\n        \"semantic_type\": \"\",\n        \"description\": \"\"\n      }\n    },\n    {\n      \"column\": \"5\",\n      \"properties\": {\n        \"dtype\": \"number\",\n        \"std\": 0.3926792515959195,\n        \"min\": -0.9555127325930596,\n        \"max\": 1.0,\n        \"num_unique_values\": 18,\n        \"samples\": [\n          -0.23464497834235748,\n          -0.0029362881658318725,\n          -0.23523708661286472\n        ],\n        \"semantic_type\": \"\",\n        \"description\": \"\"\n      }\n    },\n    {\n      \"column\": \">5\",\n      \"properties\": {\n        \"dtype\": \"number\",\n        \"std\": 0.3932315360857809,\n        \"min\": -0.9555127325930596,\n        \"max\": 1.0,\n        \"num_unique_values\": 18,\n        \"samples\": [\n          0.223281593692831,\n          0.02396666429748069,\n          0.2237537590690304\n        ],\n        \"semantic_type\": \"\",\n        \"description\": \"\"\n      }\n    }\n  ]\n}"
            }
          },
          "metadata": {},
          "execution_count": 28
        }
      ]
    },
    {
      "cell_type": "code",
      "source": [
        "import seaborn as sns\n",
        "\n",
        "plt.figure(figsize=(16,16))\n",
        "sns.heatmap(df.corr(),cmap=\"coolwarm\", annot=True)\n",
        "plt.show()"
      ],
      "metadata": {
        "id": "aJucFLSpwlpR",
        "colab": {
          "base_uri": "https://localhost:8080/",
          "height": 1000
        },
        "outputId": "6cfc24de-7e93-4417-ce70-a2a31c72ed3b"
      },
      "execution_count": null,
      "outputs": [
        {
          "output_type": "display_data",
          "data": {
            "text/plain": [
              "<Figure size 1600x1600 with 2 Axes>"
            ],
            "image/png": "[encoded data removed]"
          },
          "metadata": {}
        }
      ]
    },
    {
      "cell_type": "code",
      "source": [],
      "metadata": {
        "id": "A4n3abfjwlm6"
      },
      "execution_count": null,
      "outputs": []
    },
    {
      "cell_type": "code",
      "source": [],
      "metadata": {
        "id": "xq8bqnEewlbd"
      },
      "execution_count": null,
      "outputs": []
    },
    {
      "cell_type": "markdown",
      "source": [
        "### VIF"
      ],
      "metadata": {
        "id": "wATro6s5e_LY"
      }
    },
    {
      "cell_type": "code",
      "source": [
        "# Statmodels implementation of Linear regression\n",
        "import statsmodels.api as sm\n",
        "from sklearn.preprocessing import StandardScaler\n",
        "from sklearn.model_selection import train_test_split\n",
        "\n",
        "X = df[df.columns.drop('selling_price')]\n",
        "y = df[\"selling_price\"]\n",
        "\n",
        "X_train, X_test, y_train, y_test = train_test_split(X, y, test_size=0.2, random_state=2)\n",
        "\n",
        "scaler = StandardScaler()\n",
        "X_tr_scaled = scaler.fit_transform(X_train)\n",
        "\n",
        "X_sm = sm.add_constant(X_tr_scaled)  #Statmodels default is without intercept, to add intercept we need to add constant\n",
        "\n",
        "sm_model = sm.OLS(y_train, X_sm).fit()\n",
        "\n",
        "print(sm_model.summary())"
      ],
      "metadata": {
        "colab": {
          "base_uri": "https://localhost:8080/"
        },
        "id": "KfMmCmr3f4zr",
        "outputId": "b032fe87-2ba1-4e7e-9556-ce7090a86004"
      },
      "execution_count": null,
      "outputs": [
        {
          "output_type": "stream",
          "name": "stdout",
          "text": [
            "                            OLS Regression Results                            \n",
            "==============================================================================\n",
            "Dep. Variable:          selling_price   R-squared:                       0.941\n",
            "Model:                            OLS   Adj. R-squared:                  0.941\n",
            "Method:                 Least Squares   F-statistic:                 1.588e+04\n",
            "Date:                Tue, 20 Aug 2024   Prob (F-statistic):               0.00\n",
            "Time:                        13:01:37   Log-Likelihood:                -7.3180\n",
            "No. Observations:               15856   AIC:                             48.64\n",
            "Df Residuals:                   15839   BIC:                             179.0\n",
            "Df Model:                          16                                         \n",
            "Covariance Type:            nonrobust                                         \n",
            "==============================================================================\n",
            "                 coef    std err          t      P>|t|      [0.025      0.975]\n",
            "------------------------------------------------------------------------------\n",
            "const         -0.0004      0.002     -0.223      0.823      -0.004       0.003\n",
            "x1             0.0659      0.001     49.425      0.000       0.063       0.069\n",
            "x2            -0.0169      0.002     -7.977      0.000      -0.021      -0.013\n",
            "x3            -0.0498      0.003    -14.435      0.000      -0.057      -0.043\n",
            "x4             0.0307      0.005      6.378      0.000       0.021       0.040\n",
            "x5             0.0302      0.004      7.027      0.000       0.022       0.039\n",
            "x6            -0.0659      0.001    -49.425      0.000      -0.069      -0.063\n",
            "x7             0.0607      0.003     17.612      0.000       0.054       0.067\n",
            "x8             0.7907      0.005    171.030      0.000       0.782       0.800\n",
            "x9            -0.0179      0.002     -8.906      0.000      -0.022      -0.014\n",
            "x10           -0.0031      0.002     -1.606      0.108      -0.007       0.001\n",
            "x11            0.0129      0.008      1.614      0.107      -0.003       0.029\n",
            "x12            0.0155      0.002      7.266      0.000       0.011       0.020\n",
            "x13            0.0023      0.002      1.061      0.289      -0.002       0.007\n",
            "x14           -0.0238      0.008     -2.898      0.004      -0.040      -0.008\n",
            "x15           -0.0136      0.003     -5.285      0.000      -0.019      -0.009\n",
            "x16           -0.0264      0.007     -4.005      0.000      -0.039      -0.013\n",
            "x17           -0.0359      0.007     -5.168      0.000      -0.050      -0.022\n",
            "==============================================================================\n",
            "Omnibus:                     3788.584   Durbin-Watson:                   2.003\n",
            "Prob(Omnibus):                  0.000   Jarque-Bera (JB):           169531.293\n",
            "Skew:                           0.334   Prob(JB):                         0.00\n",
            "Kurtosis:                      19.005   Cond. No.                     1.39e+15\n",
            "==============================================================================\n",
            "\n",
            "Notes:\n",
            "[1] Standard Errors assume that the covariance matrix of the errors is correctly specified.\n",
            "[2] The smallest eigenvalue is 3.74e-26. This might indicate that there are\n",
            "strong multicollinearity problems or that the design matrix is singular.\n"
          ]
        }
      ]
    },
    {
      "cell_type": "code",
      "source": [
        "from statsmodels.stats.outliers_influence import variance_inflation_factor\n",
        "\n",
        "vif = pd.DataFrame() # blank dataframe to store VIF Values\n",
        "X_t = pd.DataFrame(X_tr_scaled, columns=X_train.columns) # add values and columns to dataframe\n",
        "vif['Features'] = X_t.columns\n",
        "vif['VIF'] = [variance_inflation_factor(X_t.values, i) for i in range(X_t.shape[1])]\n",
        "vif['VIF'] = round(vif['VIF'], 2)\n",
        "vif = vif.sort_values(by = \"VIF\", ascending = False)\n",
        "vif"
      ],
      "metadata": {
        "colab": {
          "base_uri": "https://localhost:8080/",
          "height": 652
        },
        "id": "shjp5vWleZEf",
        "outputId": "a2d07159-8614-47b8-9e5b-98854a11936e"
      },
      "execution_count": null,
      "outputs": [
        {
          "output_type": "stream",
          "name": "stderr",
          "text": [
            "/usr/local/lib/python3.10/dist-packages/statsmodels/stats/outliers_influence.py:197: RuntimeWarning: divide by zero encountered in scalar divide\n",
            "  vif = 1. / (1. - r_squared_i)\n",
            "/usr/local/lib/python3.10/dist-packages/pandas/core/nanops.py:1010: RuntimeWarning: invalid value encountered in subtract\n",
            "  sqr = _ensure_numeric((avg - values) ** 2)\n"
          ]
        },
        {
          "output_type": "execute_result",
          "data": {
            "text/plain": [
              "            Features    VIF\n",
              "0               year    inf\n",
              "5                age    inf\n",
              "13            Petrol  18.30\n",
              "10            Diesel  17.30\n",
              "16                >5  13.04\n",
              "15                 5  11.75\n",
              "3             engine   6.26\n",
              "7              model   5.78\n",
              "4          max_power   5.00\n",
              "2            mileage   3.22\n",
              "6               make   3.21\n",
              "14            Manual   1.79\n",
              "12               LPG   1.25\n",
              "11          Electric   1.23\n",
              "1          km_driven   1.21\n",
              "8         Individual   1.09\n",
              "9   Trustmark Dealer   1.02"
            ],
            "text/html": [
              "\n",
              "  <div id=\"df-46180de5-581f-4c9f-b048-fd328cdaef02\" class=\"colab-df-container\">\n",
              "    <div>\n",
              "<style scoped>\n",
              "    .dataframe tbody tr th:only-of-type {\n",
              "        vertical-align: middle;\n",
              "    }\n",
              "\n",
              "    .dataframe tbody tr th {\n",
              "        vertical-align: top;\n",
              "    }\n",
              "\n",
              "    .dataframe thead th {\n",
              "        text-align: right;\n",
              "    }\n",
              "</style>\n",
              "<table border=\"1\" class=\"dataframe\">\n",
              "  <thead>\n",
              "    <tr style=\"text-align: right;\">\n",
              "      <th></th>\n",
              "      <th>Features</th>\n",
              "      <th>VIF</th>\n",
              "    </tr>\n",
              "  </thead>\n",
              "  <tbody>\n",
              "    <tr>\n",
              "      <th>0</th>\n",
              "      <td>year</td>\n",
              "      <td>inf</td>\n",
              "    </tr>\n",
              "    <tr>\n",
              "      <th>5</th>\n",
              "      <td>age</td>\n",
              "      <td>inf</td>\n",
              "    </tr>\n",
              "    <tr>\n",
              "      <th>13</th>\n",
              "      <td>Petrol</td>\n",
              "      <td>18.30</td>\n",
              "    </tr>\n",
              "    <tr>\n",
              "      <th>10</th>\n",
              "      <td>Diesel</td>\n",
              "      <td>17.30</td>\n",
              "    </tr>\n",
              "    <tr>\n",
              "      <th>16</th>\n",
              "      <td>&gt;5</td>\n",
              "      <td>13.04</td>\n",
              "    </tr>\n",
              "    <tr>\n",
              "      <th>15</th>\n",
              "      <td>5</td>\n",
              "      <td>11.75</td>\n",
              "    </tr>\n",
              "    <tr>\n",
              "      <th>3</th>\n",
              "      <td>engine</td>\n",
              "      <td>6.26</td>\n",
              "    </tr>\n",
              "    <tr>\n",
              "      <th>7</th>\n",
              "      <td>model</td>\n",
              "      <td>5.78</td>\n",
              "    </tr>\n",
              "    <tr>\n",
              "      <th>4</th>\n",
              "      <td>max_power</td>\n",
              "      <td>5.00</td>\n",
              "    </tr>\n",
              "    <tr>\n",
              "      <th>2</th>\n",
              "      <td>mileage</td>\n",
              "      <td>3.22</td>\n",
              "    </tr>\n",
              "    <tr>\n",
              "      <th>6</th>\n",
              "      <td>make</td>\n",
              "      <td>3.21</td>\n",
              "    </tr>\n",
              "    <tr>\n",
              "      <th>14</th>\n",
              "      <td>Manual</td>\n",
              "      <td>1.79</td>\n",
              "    </tr>\n",
              "    <tr>\n",
              "      <th>12</th>\n",
              "      <td>LPG</td>\n",
              "      <td>1.25</td>\n",
              "    </tr>\n",
              "    <tr>\n",
              "      <th>11</th>\n",
              "      <td>Electric</td>\n",
              "      <td>1.23</td>\n",
              "    </tr>\n",
              "    <tr>\n",
              "      <th>1</th>\n",
              "      <td>km_driven</td>\n",
              "      <td>1.21</td>\n",
              "    </tr>\n",
              "    <tr>\n",
              "      <th>8</th>\n",
              "      <td>Individual</td>\n",
              "      <td>1.09</td>\n",
              "    </tr>\n",
              "    <tr>\n",
              "      <th>9</th>\n",
              "      <td>Trustmark Dealer</td>\n",
              "      <td>1.02</td>\n",
              "    </tr>\n",
              "  </tbody>\n",
              "</table>\n",
              "</div>\n",
              "    <div class=\"colab-df-buttons\">\n",
              "\n",
              "  <div class=\"colab-df-container\">\n",
              "    <button class=\"colab-df-convert\" onclick=\"convertToInteractive('df-46180de5-581f-4c9f-b048-fd328cdaef02')\"\n",
              "            title=\"Convert this dataframe to an interactive table.\"\n",
              "            style=\"display:none;\">\n",
              "\n",
              "  <svg xmlns=\"http://www.w3.org/2000/svg\" height=\"24px\" viewBox=\"0 -960 960 960\">\n",
              "    <path d=\"M120-120v-720h720v720H120Zm60-500h600v-160H180v160Zm220 220h160v-160H400v160Zm0 220h160v-160H400v160ZM180-400h160v-160H180v160Zm440 0h160v-160H620v160ZM180-180h160v-160H180v160Zm440 0h160v-160H620v160Z\"/>\n",
              "  </svg>\n",
              "    </button>\n",
              "\n",
              "  <style>\n",
              "    .colab-df-container {\n",
              "      display:flex;\n",
              "      gap: 12px;\n",
              "    }\n",
              "\n",
              "    .colab-df-convert {\n",
              "      background-color: #E8F0FE;\n",
              "      border: none;\n",
              "      border-radius: 50%;\n",
              "      cursor: pointer;\n",
              "      display: none;\n",
              "      fill: #1967D2;\n",
              "      height: 32px;\n",
              "      padding: 0 0 0 0;\n",
              "      width: 32px;\n",
              "    }\n",
              "\n",
              "    .colab-df-convert:hover {\n",
              "      background-color: #E2EBFA;\n",
              "      box-shadow: 0px 1px 2px rgba(60, 64, 67, 0.3), 0px 1px 3px 1px rgba(60, 64, 67, 0.15);\n",
              "      fill: #174EA6;\n",
              "    }\n",
              "\n",
              "    .colab-df-buttons div {\n",
              "      margin-bottom: 4px;\n",
              "    }\n",
              "\n",
              "    [theme=dark] .colab-df-convert {\n",
              "      background-color: #3B4455;\n",
              "      fill: #D2E3FC;\n",
              "    }\n",
              "\n",
              "    [theme=dark] .colab-df-convert:hover {\n",
              "      background-color: #434B5C;\n",
              "      box-shadow: 0px 1px 3px 1px rgba(0, 0, 0, 0.15);\n",
              "      filter: drop-shadow(0px 1px 2px rgba(0, 0, 0, 0.3));\n",
              "      fill: #FFFFFF;\n",
              "    }\n",
              "  </style>\n",
              "\n",
              "    <script>\n",
              "      const buttonEl =\n",
              "        document.querySelector('#df-46180de5-581f-4c9f-b048-fd328cdaef02 button.colab-df-convert');\n",
              "      buttonEl.style.display =\n",
              "        google.colab.kernel.accessAllowed ? 'block' : 'none';\n",
              "\n",
              "      async function convertToInteractive(key) {\n",
              "        const element = document.querySelector('#df-46180de5-581f-4c9f-b048-fd328cdaef02');\n",
              "        const dataTable =\n",
              "          await google.colab.kernel.invokeFunction('convertToInteractive',\n",
              "                                                    [key], {});\n",
              "        if (!dataTable) return;\n",
              "\n",
              "        const docLinkHtml = 'Like what you see? Visit the ' +\n",
              "          '<a target=\"_blank\" href=https://colab.research.google.com/notebooks/data_table.ipynb>data table notebook</a>'\n",
              "          + ' to learn more about interactive tables.';\n",
              "        element.innerHTML = '';\n",
              "        dataTable['output_type'] = 'display_data';\n",
              "        await google.colab.output.renderOutput(dataTable, element);\n",
              "        const docLink = document.createElement('div');\n",
              "        docLink.innerHTML = docLinkHtml;\n",
              "        element.appendChild(docLink);\n",
              "      }\n",
              "    </script>\n",
              "  </div>\n",
              "\n",
              "\n",
              "<div id=\"df-d343cfda-b1f8-4457-82c8-e5a30f32cb34\">\n",
              "  <button class=\"colab-df-quickchart\" onclick=\"quickchart('df-d343cfda-b1f8-4457-82c8-e5a30f32cb34')\"\n",
              "            title=\"Suggest charts\"\n",
              "            style=\"display:none;\">\n",
              "\n",
              "<svg xmlns=\"http://www.w3.org/2000/svg\" height=\"24px\"viewBox=\"0 0 24 24\"\n",
              "     width=\"24px\">\n",
              "    <g>\n",
              "        <path d=\"M19 3H5c-1.1 0-2 .9-2 2v14c0 1.1.9 2 2 2h14c1.1 0 2-.9 2-2V5c0-1.1-.9-2-2-2zM9 17H7v-7h2v7zm4 0h-2V7h2v10zm4 0h-2v-4h2v4z\"/>\n",
              "    </g>\n",
              "</svg>\n",
              "  </button>\n",
              "\n",
              "<style>\n",
              "  .colab-df-quickchart {\n",
              "      --bg-color: #E8F0FE;\n",
              "      --fill-color: #1967D2;\n",
              "      --hover-bg-color: #E2EBFA;\n",
              "      --hover-fill-color: #174EA6;\n",
              "      --disabled-fill-color: #AAA;\n",
              "      --disabled-bg-color: #DDD;\n",
              "  }\n",
              "\n",
              "  [theme=dark] .colab-df-quickchart {\n",
              "      --bg-color: #3B4455;\n",
              "      --fill-color: #D2E3FC;\n",
              "      --hover-bg-color: #434B5C;\n",
              "      --hover-fill-color: #FFFFFF;\n",
              "      --disabled-bg-color: #3B4455;\n",
              "      --disabled-fill-color: #666;\n",
              "  }\n",
              "\n",
              "  .colab-df-quickchart {\n",
              "    background-color: var(--bg-color);\n",
              "    border: none;\n",
              "    border-radius: 50%;\n",
              "    cursor: pointer;\n",
              "    display: none;\n",
              "    fill: var(--fill-color);\n",
              "    height: 32px;\n",
              "    padding: 0;\n",
              "    width: 32px;\n",
              "  }\n",
              "\n",
              "  .colab-df-quickchart:hover {\n",
              "    background-color: var(--hover-bg-color);\n",
              "    box-shadow: 0 1px 2px rgba(60, 64, 67, 0.3), 0 1px 3px 1px rgba(60, 64, 67, 0.15);\n",
              "    fill: var(--button-hover-fill-color);\n",
              "  }\n",
              "\n",
              "  .colab-df-quickchart-complete:disabled,\n",
              "  .colab-df-quickchart-complete:disabled:hover {\n",
              "    background-color: var(--disabled-bg-color);\n",
              "    fill: var(--disabled-fill-color);\n",
              "    box-shadow: none;\n",
              "  }\n",
              "\n",
              "  .colab-df-spinner {\n",
              "    border: 2px solid var(--fill-color);\n",
              "    border-color: transparent;\n",
              "    border-bottom-color: var(--fill-color);\n",
              "    animation:\n",
              "      spin 1s steps(1) infinite;\n",
              "  }\n",
              "\n",
              "  @keyframes spin {\n",
              "    0% {\n",
              "      border-color: transparent;\n",
              "      border-bottom-color: var(--fill-color);\n",
              "      border-left-color: var(--fill-color);\n",
              "    }\n",
              "    20% {\n",
              "      border-color: transparent;\n",
              "      border-left-color: var(--fill-color);\n",
              "      border-top-color: var(--fill-color);\n",
              "    }\n",
              "    30% {\n",
              "      border-color: transparent;\n",
              "      border-left-color: var(--fill-color);\n",
              "      border-top-color: var(--fill-color);\n",
              "      border-right-color: var(--fill-color);\n",
              "    }\n",
              "    40% {\n",
              "      border-color: transparent;\n",
              "      border-right-color: var(--fill-color);\n",
              "      border-top-color: var(--fill-color);\n",
              "    }\n",
              "    60% {\n",
              "      border-color: transparent;\n",
              "      border-right-color: var(--fill-color);\n",
              "    }\n",
              "    80% {\n",
              "      border-color: transparent;\n",
              "      border-right-color: var(--fill-color);\n",
              "      border-bottom-color: var(--fill-color);\n",
              "    }\n",
              "    90% {\n",
              "      border-color: transparent;\n",
              "      border-bottom-color: var(--fill-color);\n",
              "    }\n",
              "  }\n",
              "</style>\n",
              "\n",
              "  <script>\n",
              "    async function quickchart(key) {\n",
              "      const quickchartButtonEl =\n",
              "        document.querySelector('#' + key + ' button');\n",
              "      quickchartButtonEl.disabled = true;  // To prevent multiple clicks.\n",
              "      quickchartButtonEl.classList.add('colab-df-spinner');\n",
              "      try {\n",
              "        const charts = await google.colab.kernel.invokeFunction(\n",
              "            'suggestCharts', [key], {});\n",
              "      } catch (error) {\n",
              "        console.error('Error during call to suggestCharts:', error);\n",
              "      }\n",
              "      quickchartButtonEl.classList.remove('colab-df-spinner');\n",
              "      quickchartButtonEl.classList.add('colab-df-quickchart-complete');\n",
              "    }\n",
              "    (() => {\n",
              "      let quickchartButtonEl =\n",
              "        document.querySelector('#df-d343cfda-b1f8-4457-82c8-e5a30f32cb34 button');\n",
              "      quickchartButtonEl.style.display =\n",
              "        google.colab.kernel.accessAllowed ? 'block' : 'none';\n",
              "    })();\n",
              "  </script>\n",
              "</div>\n",
              "\n",
              "  <div id=\"id_61d29139-ea01-433c-9f9c-79a43c7b475f\">\n",
              "    <style>\n",
              "      .colab-df-generate {\n",
              "        background-color: #E8F0FE;\n",
              "        border: none;\n",
              "        border-radius: 50%;\n",
              "        cursor: pointer;\n",
              "        display: none;\n",
              "        fill: #1967D2;\n",
              "        height: 32px;\n",
              "        padding: 0 0 0 0;\n",
              "        width: 32px;\n",
              "      }\n",
              "\n",
              "      .colab-df-generate:hover {\n",
              "        background-color: #E2EBFA;\n",
              "        box-shadow: 0px 1px 2px rgba(60, 64, 67, 0.3), 0px 1px 3px 1px rgba(60, 64, 67, 0.15);\n",
              "        fill: #174EA6;\n",
              "      }\n",
              "\n",
              "      [theme=dark] .colab-df-generate {\n",
              "        background-color: #3B4455;\n",
              "        fill: #D2E3FC;\n",
              "      }\n",
              "\n",
              "      [theme=dark] .colab-df-generate:hover {\n",
              "        background-color: #434B5C;\n",
              "        box-shadow: 0px 1px 3px 1px rgba(0, 0, 0, 0.15);\n",
              "        filter: drop-shadow(0px 1px 2px rgba(0, 0, 0, 0.3));\n",
              "        fill: #FFFFFF;\n",
              "      }\n",
              "    </style>\n",
              "    <button class=\"colab-df-generate\" onclick=\"generateWithVariable('vif')\"\n",
              "            title=\"Generate code using this dataframe.\"\n",
              "            style=\"display:none;\">\n",
              "\n",
              "  <svg xmlns=\"http://www.w3.org/2000/svg\" height=\"24px\"viewBox=\"0 0 24 24\"\n",
              "       width=\"24px\">\n",
              "    <path d=\"M7,19H8.4L18.45,9,17,7.55,7,17.6ZM5,21V16.75L18.45,3.32a2,2,0,0,1,2.83,0l1.4,1.43a1.91,1.91,0,0,1,.58,1.4,1.91,1.91,0,0,1-.58,1.4L9.25,21ZM18.45,9,17,7.55Zm-12,3A5.31,5.31,0,0,0,4.9,8.1,5.31,5.31,0,0,0,1,6.5,5.31,5.31,0,0,0,4.9,4.9,5.31,5.31,0,0,0,6.5,1,5.31,5.31,0,0,0,8.1,4.9,5.31,5.31,0,0,0,12,6.5,5.46,5.46,0,0,0,6.5,12Z\"/>\n",
              "  </svg>\n",
              "    </button>\n",
              "    <script>\n",
              "      (() => {\n",
              "      const buttonEl =\n",
              "        document.querySelector('#id_61d29139-ea01-433c-9f9c-79a43c7b475f button.colab-df-generate');\n",
              "      buttonEl.style.display =\n",
              "        google.colab.kernel.accessAllowed ? 'block' : 'none';\n",
              "\n",
              "      buttonEl.onclick = () => {\n",
              "        google.colab.notebook.generateWithVariable('vif');\n",
              "      }\n",
              "      })();\n",
              "    </script>\n",
              "  </div>\n",
              "\n",
              "    </div>\n",
              "  </div>\n"
            ],
            "application/vnd.google.colaboratory.intrinsic+json": {
              "type": "dataframe",
              "variable_name": "vif",
              "repr_error": "Out of range float values are not JSON compliant: inf"
            }
          },
          "metadata": {},
          "execution_count": 31
        }
      ]
    },
    {
      "cell_type": "markdown",
      "source": [
        "#### Note : VIF values tends to be infinity when there is a perfect correlation between the variables"
      ],
      "metadata": {
        "id": "fNlY-0eagD0F"
      }
    },
    {
      "cell_type": "code",
      "source": [
        "cols2 = vif[\"Features\"][1:].values\n",
        "X2 = pd.DataFrame(X_tr_scaled, columns=X_train.columns)[cols2]\n",
        "\n",
        "X2_sm = sm.add_constant(X2)  #Statmodels default is without intercept, to add intercept we need to add constant\n",
        "sm_model = sm.OLS(list(y_train), X2_sm).fit()\n",
        "print(sm_model.summary())"
      ],
      "metadata": {
        "colab": {
          "base_uri": "https://localhost:8080/"
        },
        "id": "rp4rWpvuf60W",
        "outputId": "3ff3a855-455d-494c-e0e6-998ac5a6d6b5"
      },
      "execution_count": null,
      "outputs": [
        {
          "output_type": "stream",
          "name": "stdout",
          "text": [
            "                            OLS Regression Results                            \n",
            "==============================================================================\n",
            "Dep. Variable:                      y   R-squared:                       0.941\n",
            "Model:                            OLS   Adj. R-squared:                  0.941\n",
            "Method:                 Least Squares   F-statistic:                 1.588e+04\n",
            "Date:                Tue, 20 Aug 2024   Prob (F-statistic):               0.00\n",
            "Time:                        13:01:39   Log-Likelihood:                -7.3180\n",
            "No. Observations:               15856   AIC:                             48.64\n",
            "Df Residuals:                   15839   BIC:                             179.0\n",
            "Df Model:                          16                                         \n",
            "Covariance Type:            nonrobust                                         \n",
            "====================================================================================\n",
            "                       coef    std err          t      P>|t|      [0.025      0.975]\n",
            "------------------------------------------------------------------------------------\n",
            "const               -0.0004      0.002     -0.223      0.823      -0.004       0.003\n",
            "age                 -0.1319      0.003    -49.425      0.000      -0.137      -0.127\n",
            "Petrol              -0.0238      0.008     -2.898      0.004      -0.040      -0.008\n",
            "Diesel               0.0129      0.008      1.614      0.107      -0.003       0.029\n",
            ">5                  -0.0359      0.007     -5.168      0.000      -0.050      -0.022\n",
            "5                   -0.0264      0.007     -4.005      0.000      -0.039      -0.013\n",
            "engine               0.0307      0.005      6.378      0.000       0.021       0.040\n",
            "model                0.7907      0.005    171.030      0.000       0.782       0.800\n",
            "max_power            0.0302      0.004      7.027      0.000       0.022       0.039\n",
            "mileage             -0.0498      0.003    -14.435      0.000      -0.057      -0.043\n",
            "make                 0.0607      0.003     17.612      0.000       0.054       0.067\n",
            "Manual              -0.0136      0.003     -5.285      0.000      -0.019      -0.009\n",
            "LPG                  0.0023      0.002      1.061      0.289      -0.002       0.007\n",
            "Electric             0.0155      0.002      7.266      0.000       0.011       0.020\n",
            "km_driven           -0.0169      0.002     -7.977      0.000      -0.021      -0.013\n",
            "Individual          -0.0179      0.002     -8.906      0.000      -0.022      -0.014\n",
            "Trustmark Dealer    -0.0031      0.002     -1.606      0.108      -0.007       0.001\n",
            "==============================================================================\n",
            "Omnibus:                     3788.584   Durbin-Watson:                   2.003\n",
            "Prob(Omnibus):                  0.000   Jarque-Bera (JB):           169531.293\n",
            "Skew:                           0.334   Prob(JB):                         0.00\n",
            "Kurtosis:                      19.005   Cond. No.                         12.6\n",
            "==============================================================================\n",
            "\n",
            "Notes:\n",
            "[1] Standard Errors assume that the covariance matrix of the errors is correctly specified.\n"
          ]
        }
      ]
    },
    {
      "cell_type": "code",
      "source": [
        "cols2 = vif[\"Features\"][1:].values\n",
        "X2 = pd.DataFrame(X_tr_scaled, columns=X_train.columns)[cols2]\n",
        "\n",
        "X2_sm = sm.add_constant(X2)  #Statmodels default is without intercept, to add intercept we need to add constant\n",
        "sm_model = sm.OLS(list(y_train), X2_sm).fit()\n",
        "print(sm_model.summary())"
      ],
      "metadata": {
        "colab": {
          "base_uri": "https://localhost:8080/"
        },
        "id": "y841dEUNgKqR",
        "outputId": "3f1b4b9e-07d5-4975-b9f1-a852e9a5463f"
      },
      "execution_count": null,
      "outputs": [
        {
          "output_type": "stream",
          "name": "stdout",
          "text": [
            "                            OLS Regression Results                            \n",
            "==============================================================================\n",
            "Dep. Variable:                      y   R-squared:                       0.941\n",
            "Model:                            OLS   Adj. R-squared:                  0.941\n",
            "Method:                 Least Squares   F-statistic:                 1.588e+04\n",
            "Date:                Tue, 20 Aug 2024   Prob (F-statistic):               0.00\n",
            "Time:                        13:01:39   Log-Likelihood:                -7.3180\n",
            "No. Observations:               15856   AIC:                             48.64\n",
            "Df Residuals:                   15839   BIC:                             179.0\n",
            "Df Model:                          16                                         \n",
            "Covariance Type:            nonrobust                                         \n",
            "====================================================================================\n",
            "                       coef    std err          t      P>|t|      [0.025      0.975]\n",
            "------------------------------------------------------------------------------------\n",
            "const               -0.0004      0.002     -0.223      0.823      -0.004       0.003\n",
            "age                 -0.1319      0.003    -49.425      0.000      -0.137      -0.127\n",
            "Petrol              -0.0238      0.008     -2.898      0.004      -0.040      -0.008\n",
            "Diesel               0.0129      0.008      1.614      0.107      -0.003       0.029\n",
            ">5                  -0.0359      0.007     -5.168      0.000      -0.050      -0.022\n",
            "5                   -0.0264      0.007     -4.005      0.000      -0.039      -0.013\n",
            "engine               0.0307      0.005      6.378      0.000       0.021       0.040\n",
            "model                0.7907      0.005    171.030      0.000       0.782       0.800\n",
            "max_power            0.0302      0.004      7.027      0.000       0.022       0.039\n",
            "mileage             -0.0498      0.003    -14.435      0.000      -0.057      -0.043\n",
            "make                 0.0607      0.003     17.612      0.000       0.054       0.067\n",
            "Manual              -0.0136      0.003     -5.285      0.000      -0.019      -0.009\n",
            "LPG                  0.0023      0.002      1.061      0.289      -0.002       0.007\n",
            "Electric             0.0155      0.002      7.266      0.000       0.011       0.020\n",
            "km_driven           -0.0169      0.002     -7.977      0.000      -0.021      -0.013\n",
            "Individual          -0.0179      0.002     -8.906      0.000      -0.022      -0.014\n",
            "Trustmark Dealer    -0.0031      0.002     -1.606      0.108      -0.007       0.001\n",
            "==============================================================================\n",
            "Omnibus:                     3788.584   Durbin-Watson:                   2.003\n",
            "Prob(Omnibus):                  0.000   Jarque-Bera (JB):           169531.293\n",
            "Skew:                           0.334   Prob(JB):                         0.00\n",
            "Kurtosis:                      19.005   Cond. No.                         12.6\n",
            "==============================================================================\n",
            "\n",
            "Notes:\n",
            "[1] Standard Errors assume that the covariance matrix of the errors is correctly specified.\n"
          ]
        }
      ]
    },
    {
      "cell_type": "markdown",
      "source": [
        "Let's now keep on removing features till we\n",
        "- either have a feature with vif<5\n",
        "\n",
        "or\n",
        "- have the model's adj. r2 score go below 0.85"
      ],
      "metadata": {
        "id": "4W7HtdUCgWA0"
      }
    },
    {
      "cell_type": "code",
      "source": [
        "vif_thr = 5\n",
        "r2_thr = 0.85\n",
        "i = 1\n",
        "feats_removed = ['year']\n",
        "while True:\n",
        "  vif = pd.DataFrame()\n",
        "  X_t = pd.DataFrame(X_tr_scaled, columns=X_train.columns)[cols2]\n",
        "  vif['Features'] = cols2\n",
        "  vif['VIF'] = [variance_inflation_factor(X_t.values, i) for i in range(X_t.shape[1])]\n",
        "  vif['VIF'] = round(vif['VIF'], 2)\n",
        "  vif = vif.sort_values(by = \"VIF\", ascending = False)\n",
        "\n",
        "  cols2 = vif[\"Features\"][1:].values\n",
        "  X2 = pd.DataFrame(X_tr_scaled, columns=X_train.columns)[cols2]\n",
        "\n",
        "  X2_sm = sm.add_constant(X2)  #Statmodels default is without intercept, to add intercept we need to add constant\n",
        "  sm_model = sm.OLS(list(y_train), X2_sm).fit()\n",
        "  if (vif.iloc[0]['VIF'] < vif_thr) or (sm_model.rsquared_adj < r2_thr):\n",
        "    print('Reached threshold')\n",
        "    print('Highest vif:',vif.iloc[0])\n",
        "    print('Current adj.R2',sm_model.rsquared_adj)\n",
        "    print('Features removed:', i)\n",
        "    print('List of features removed:', feats_removed)\n",
        "    break\n",
        "  feats_removed.append(vif.iloc[0]['Features'])\n",
        "  i += 1"
      ],
      "metadata": {
        "colab": {
          "base_uri": "https://localhost:8080/"
        },
        "id": "RMAMsocmgMLG",
        "outputId": "32275ff0-beef-4ef3-a599-0b4b06364253"
      },
      "execution_count": null,
      "outputs": [
        {
          "output_type": "stream",
          "name": "stdout",
          "text": [
            "Reached threshold\n",
            "Highest vif: Features    model\n",
            "VIF          5.75\n",
            "Name: 0, dtype: object\n",
            "Current adj.R2 0.8318553555450336\n",
            "Features removed: 4\n",
            "List of features removed: ['year', 'Petrol', '>5', 'engine']\n"
          ]
        }
      ]
    },
    {
      "cell_type": "code",
      "source": [
        "print(vif)\n",
        "print(sm_model.summary())"
      ],
      "metadata": {
        "colab": {
          "base_uri": "https://localhost:8080/"
        },
        "id": "ehZRzAc7gTJ5",
        "outputId": "d5878f4f-83df-4738-ba78-b2f9134b8deb"
      },
      "execution_count": null,
      "outputs": [
        {
          "output_type": "stream",
          "name": "stdout",
          "text": [
            "            Features   VIF\n",
            "0              model  5.75\n",
            "1          max_power  3.31\n",
            "2               make  3.16\n",
            "3            mileage  2.28\n",
            "5                age  1.88\n",
            "6             Manual  1.77\n",
            "4             Diesel  1.66\n",
            "7                  5  1.47\n",
            "9          km_driven  1.20\n",
            "8           Electric  1.18\n",
            "10        Individual  1.08\n",
            "11  Trustmark Dealer  1.02\n",
            "12               LPG  1.01\n",
            "                            OLS Regression Results                            \n",
            "==============================================================================\n",
            "Dep. Variable:                      y   R-squared:                       0.832\n",
            "Model:                            OLS   Adj. R-squared:                  0.832\n",
            "Method:                 Least Squares   F-statistic:                     6538.\n",
            "Date:                Tue, 20 Aug 2024   Prob (F-statistic):               0.00\n",
            "Time:                        13:01:44   Log-Likelihood:                -8348.2\n",
            "No. Observations:               15856   AIC:                         1.672e+04\n",
            "Df Residuals:                   15843   BIC:                         1.682e+04\n",
            "Df Model:                          12                                         \n",
            "Covariance Type:            nonrobust                                         \n",
            "====================================================================================\n",
            "                       coef    std err          t      P>|t|      [0.025      0.975]\n",
            "------------------------------------------------------------------------------------\n",
            "const               -0.0004      0.003     -0.132      0.895      -0.007       0.006\n",
            "max_power            0.3037      0.005     56.642      0.000       0.293       0.314\n",
            "make                 0.3649      0.005     73.452      0.000       0.355       0.375\n",
            "mileage             -0.1150      0.005    -23.589      0.000      -0.125      -0.105\n",
            "age                 -0.3772      0.004   -101.122      0.000      -0.384      -0.370\n",
            "Manual              -0.1242      0.004    -29.627      0.000      -0.132      -0.116\n",
            "Diesel               0.1589      0.004     39.488      0.000       0.151       0.167\n",
            "5                   -0.0461      0.004    -11.759      0.000      -0.054      -0.038\n",
            "km_driven           -0.0294      0.004     -8.267      0.000      -0.036      -0.022\n",
            "Electric             0.0427      0.004     12.127      0.000       0.036       0.050\n",
            "Individual          -0.0338      0.003     -9.982      0.000      -0.040      -0.027\n",
            "Trustmark Dealer    -0.0065      0.003     -1.988      0.047      -0.013   -9.11e-05\n",
            "LPG                  0.0107      0.003      3.281      0.001       0.004       0.017\n",
            "==============================================================================\n",
            "Omnibus:                     2076.324   Durbin-Watson:                   1.980\n",
            "Prob(Omnibus):                  0.000   Jarque-Bera (JB):            11955.803\n",
            "Skew:                           0.494   Prob(JB):                         0.00\n",
            "Kurtosis:                       7.138   Cond. No.                         3.44\n",
            "==============================================================================\n",
            "\n",
            "Notes:\n",
            "[1] Standard Errors assume that the covariance matrix of the errors is correctly specified.\n"
          ]
        }
      ]
    },
    {
      "cell_type": "markdown",
      "source": [
        "3. Errors must be normally distributed"
      ],
      "metadata": {
        "id": "mxYuD4sDggWr"
      }
    },
    {
      "cell_type": "code",
      "source": [
        "X_sm = sm.add_constant(X_tr_scaled)\n",
        "sm_model = sm.OLS(y_train, X_sm).fit()"
      ],
      "metadata": {
        "id": "9xpa3fFFgb-v"
      },
      "execution_count": null,
      "outputs": []
    },
    {
      "cell_type": "code",
      "source": [
        "y_train.shape"
      ],
      "metadata": {
        "colab": {
          "base_uri": "https://localhost:8080/"
        },
        "id": "XUmHx_2igsHA",
        "outputId": "2a402b23-2491-4c6f-e6a8-de49ae87dee6"
      },
      "execution_count": null,
      "outputs": [
        {
          "output_type": "execute_result",
          "data": {
            "text/plain": [
              "(15856,)"
            ]
          },
          "metadata": {},
          "execution_count": 37
        }
      ]
    },
    {
      "cell_type": "code",
      "source": [
        "Y_hat = sm_model.predict(X_sm)\n",
        "errors = Y_hat - y_train"
      ],
      "metadata": {
        "id": "xnUDcwtCgsfB"
      },
      "execution_count": null,
      "outputs": []
    },
    {
      "cell_type": "code",
      "source": [
        "import seaborn as sns\n",
        "sns.histplot(errors)\n",
        "plt.xlabel(\" Residuals\")\n",
        "plt.title(\"Histogram of residuals\")"
      ],
      "metadata": {
        "colab": {
          "base_uri": "https://localhost:8080/",
          "height": 489
        },
        "id": "vreQzKuYgt_b",
        "outputId": "26ddf703-bfb8-45ed-82c9-1e41e54ca9c8"
      },
      "execution_count": null,
      "outputs": [
        {
          "output_type": "execute_result",
          "data": {
            "text/plain": [
              "Text(0.5, 1.0, 'Histogram of residuals')"
            ]
          },
          "metadata": {},
          "execution_count": 39
        },
        {
          "output_type": "display_data",
          "data": {
            "text/plain": [
              "<Figure size 640x480 with 1 Axes>"
            ],
            "image/png": "[encoded data removed]"
          },
          "metadata": {}
        }
      ]
    },
    {
      "cell_type": "code",
      "source": [
        "from scipy import stats\n",
        "res = stats.shapiro(errors)\n",
        "res.statistic"
      ],
      "metadata": {
        "colab": {
          "base_uri": "https://localhost:8080/"
        },
        "id": "s2VPT_HlgvfE",
        "outputId": "a1cd386b-64c9-413b-d84b-15877fc35e5c"
      },
      "execution_count": null,
      "outputs": [
        {
          "output_type": "stream",
          "name": "stderr",
          "text": [
            "/usr/local/lib/python3.10/dist-packages/scipy/stats/_axis_nan_policy.py:531: UserWarning: scipy.stats.shapiro: For N > 5000, computed p-value may not be accurate. Current N is 15856.\n",
            "  res = hypotest_fun_out(*samples, **kwds)\n"
          ]
        },
        {
          "output_type": "execute_result",
          "data": {
            "text/plain": [
              "0.8526019402961725"
            ]
          },
          "metadata": {},
          "execution_count": 40
        }
      ]
    },
    {
      "cell_type": "markdown",
      "source": [
        "Closer the value to 1, more is the normality.\n",
        "\n",
        "In this case, a value of 0.85 denotes a high level of normality for the error distribuiton"
      ],
      "metadata": {
        "id": "Zp0biUIog3yU"
      }
    },
    {
      "cell_type": "markdown",
      "source": [
        "Lets implement heteroskedasticity in Cars24"
      ],
      "metadata": {
        "id": "41CloH5gg7HU"
      }
    },
    {
      "cell_type": "code",
      "source": [
        "Y_hat = sm_model.predict(X_sm)\n",
        "errors = Y_hat - y_train"
      ],
      "metadata": {
        "id": "R2O0Qd5SgyLW"
      },
      "execution_count": null,
      "outputs": []
    },
    {
      "cell_type": "code",
      "source": [
        "sns.scatterplot(x=Y_hat,y=errors)\n",
        "plt.xlabel(\"predicted Selling price\")\n",
        "plt.ylabel(\"Residuals\")\n",
        "plt.title(\"Predicted values vs Residuals\")"
      ],
      "metadata": {
        "colab": {
          "base_uri": "https://localhost:8080/",
          "height": 489
        },
        "id": "0GcOeZ9ihAfu",
        "outputId": "7eb1cd0c-4dc6-47e2-f005-2d9e71f6f360"
      },
      "execution_count": null,
      "outputs": [
        {
          "output_type": "execute_result",
          "data": {
            "text/plain": [
              "Text(0.5, 1.0, 'Predicted values vs Residuals')"
            ]
          },
          "metadata": {},
          "execution_count": 42
        },
        {
          "output_type": "display_data",
          "data": {
            "text/plain": [
              "<Figure size 640x480 with 1 Axes>"
            ],
            "image/png": "[encoded data removed]"
          },
          "metadata": {}
        }
      ]
    },
    {
      "cell_type": "markdown",
      "source": [
        "### Using Goldfeld Quandt Test to check homoskedacity\n",
        "\n",
        "- This test is used to test the presence of Heteroscedasticity in the given data\n",
        "- The Goldfeld-Quandt test works by removing some number of observations located in the center of the dataset, then testing to see if the spread of residuals is different from the resulting two datasets that are on either side of the central observations."
      ],
      "metadata": {
        "id": "kN190chwhHG5"
      }
    },
    {
      "cell_type": "code",
      "source": [
        "# Performing the Goldfeld-Quandt test to check for Homoscedasticity -\n",
        "from statsmodels.compat import lzip\n",
        "import statsmodels.stats.api as sms\n",
        "\n",
        "name = ['F statistic', 'p-value']\n",
        "test = sms.het_goldfeldquandt(y_train, X2_sm)\n",
        "lzip(name, test)"
      ],
      "metadata": {
        "colab": {
          "base_uri": "https://localhost:8080/"
        },
        "id": "llIsAjt4hA_O",
        "outputId": "b84db03f-4fb6-46f7-d49d-e66da071fa8a"
      },
      "execution_count": null,
      "outputs": [
        {
          "output_type": "execute_result",
          "data": {
            "text/plain": [
              "[('F statistic', 1.0084600947540285), ('p-value', 0.35392832073679753)]"
            ]
          },
          "metadata": {},
          "execution_count": 43
        }
      ]
    },
    {
      "cell_type": "markdown",
      "source": [
        "From the goldfeld-quandt test:\n",
        "- F Statistic comes out to be 1.00 => Implying minimal difference in variance between groups\n",
        "- p-value of 0.353 indicates that this difference is  statistically significant at conventional levels of significance (e.g., 0.05).\n",
        "\n",
        "Therefore, we accept the null hypothesis of homoscedasticity, and conclude that there is no strong evidence of heteroscedasticity in the data."
      ],
      "metadata": {
        "id": "veDwzjLGhOcb"
      }
    },
    {
      "cell_type": "code",
      "source": [],
      "metadata": {
        "id": "mejmrlcLhJHm"
      },
      "execution_count": null,
      "outputs": []
    },
    {
      "cell_type": "markdown",
      "source": [
        "How train test split manage to include all unique values of features, eg lets say we were already using emission standard as one of the feature but recently BS7 gets launched and we have very little labled data against BS7, while training how to ensure these rows are part of training"
      ],
      "metadata": {
        "id": "vHw0_fh-XEM9"
      }
    },
    {
      "cell_type": "code",
      "source": [
        "### stratified sampling:\n",
        "\n",
        "### train: 0.80\n",
        "### test: .20\n",
        "## Column value: Engine Type\n",
        "X_train, X_test, y_train, y_test = train_test_split(X, y, test_size=0.2, random_state=2)\n"
      ],
      "metadata": {
        "id": "n14pn4H9XEyZ"
      },
      "execution_count": null,
      "outputs": []
    },
    {
      "cell_type": "code",
      "source": [
        "X.year.value_counts()"
      ],
      "metadata": {
        "colab": {
          "base_uri": "https://localhost:8080/",
          "height": 962
        },
        "id": "uORVMYpBXlSt",
        "outputId": "e3c4cc1b-3b3d-4b0d-fe4d-ac0d0b79ccb5"
      },
      "execution_count": null,
      "outputs": [
        {
          "output_type": "execute_result",
          "data": {
            "text/plain": [
              "year\n",
              " 0.762867    2645\n",
              " 0.450030    2586\n",
              " 0.137194    2426\n",
              " 1.075704    2157\n",
              "-0.175643    1942\n",
              "-0.488480    1770\n",
              "-0.801317    1549\n",
              " 1.388540    1228\n",
              "-1.114153    1086\n",
              "-1.426990     837\n",
              "-1.739827     430\n",
              "-2.052663     364\n",
              " 1.701377     232\n",
              "-2.365500     232\n",
              "-2.678337     159\n",
              "-2.991173      59\n",
              "-3.304010      39\n",
              "-3.616847      22\n",
              "-3.929684      12\n",
              "-4.555357      11\n",
              "-4.868194      11\n",
              "-4.242520       9\n",
              "-5.181030       6\n",
              " 2.014214       5\n",
              "-5.493867       1\n",
              "-7.058051       1\n",
              "-5.806704       1\n",
              "Name: count, dtype: int64"
            ],
            "text/html": [
              "<div>\n",
              "<style scoped>\n",
              "    .dataframe tbody tr th:only-of-type {\n",
              "        vertical-align: middle;\n",
              "    }\n",
              "\n",
              "    .dataframe tbody tr th {\n",
              "        vertical-align: top;\n",
              "    }\n",
              "\n",
              "    .dataframe thead th {\n",
              "        text-align: right;\n",
              "    }\n",
              "</style>\n",
              "<table border=\"1\" class=\"dataframe\">\n",
              "  <thead>\n",
              "    <tr style=\"text-align: right;\">\n",
              "      <th></th>\n",
              "      <th>count</th>\n",
              "    </tr>\n",
              "    <tr>\n",
              "      <th>year</th>\n",
              "      <th></th>\n",
              "    </tr>\n",
              "  </thead>\n",
              "  <tbody>\n",
              "    <tr>\n",
              "      <th>0.762867</th>\n",
              "      <td>2645</td>\n",
              "    </tr>\n",
              "    <tr>\n",
              "      <th>0.450030</th>\n",
              "      <td>2586</td>\n",
              "    </tr>\n",
              "    <tr>\n",
              "      <th>0.137194</th>\n",
              "      <td>2426</td>\n",
              "    </tr>\n",
              "    <tr>\n",
              "      <th>1.075704</th>\n",
              "      <td>2157</td>\n",
              "    </tr>\n",
              "    <tr>\n",
              "      <th>-0.175643</th>\n",
              "      <td>1942</td>\n",
              "    </tr>\n",
              "    <tr>\n",
              "      <th>-0.488480</th>\n",
              "      <td>1770</td>\n",
              "    </tr>\n",
              "    <tr>\n",
              "      <th>-0.801317</th>\n",
              "      <td>1549</td>\n",
              "    </tr>\n",
              "    <tr>\n",
              "      <th>1.388540</th>\n",
              "      <td>1228</td>\n",
              "    </tr>\n",
              "    <tr>\n",
              "      <th>-1.114153</th>\n",
              "      <td>1086</td>\n",
              "    </tr>\n",
              "    <tr>\n",
              "      <th>-1.426990</th>\n",
              "      <td>837</td>\n",
              "    </tr>\n",
              "    <tr>\n",
              "      <th>-1.739827</th>\n",
              "      <td>430</td>\n",
              "    </tr>\n",
              "    <tr>\n",
              "      <th>-2.052663</th>\n",
              "      <td>364</td>\n",
              "    </tr>\n",
              "    <tr>\n",
              "      <th>1.701377</th>\n",
              "      <td>232</td>\n",
              "    </tr>\n",
              "    <tr>\n",
              "      <th>-2.365500</th>\n",
              "      <td>232</td>\n",
              "    </tr>\n",
              "    <tr>\n",
              "      <th>-2.678337</th>\n",
              "      <td>159</td>\n",
              "    </tr>\n",
              "    <tr>\n",
              "      <th>-2.991173</th>\n",
              "      <td>59</td>\n",
              "    </tr>\n",
              "    <tr>\n",
              "      <th>-3.304010</th>\n",
              "      <td>39</td>\n",
              "    </tr>\n",
              "    <tr>\n",
              "      <th>-3.616847</th>\n",
              "      <td>22</td>\n",
              "    </tr>\n",
              "    <tr>\n",
              "      <th>-3.929684</th>\n",
              "      <td>12</td>\n",
              "    </tr>\n",
              "    <tr>\n",
              "      <th>-4.555357</th>\n",
              "      <td>11</td>\n",
              "    </tr>\n",
              "    <tr>\n",
              "      <th>-4.868194</th>\n",
              "      <td>11</td>\n",
              "    </tr>\n",
              "    <tr>\n",
              "      <th>-4.242520</th>\n",
              "      <td>9</td>\n",
              "    </tr>\n",
              "    <tr>\n",
              "      <th>-5.181030</th>\n",
              "      <td>6</td>\n",
              "    </tr>\n",
              "    <tr>\n",
              "      <th>2.014214</th>\n",
              "      <td>5</td>\n",
              "    </tr>\n",
              "    <tr>\n",
              "      <th>-5.493867</th>\n",
              "      <td>1</td>\n",
              "    </tr>\n",
              "    <tr>\n",
              "      <th>-7.058051</th>\n",
              "      <td>1</td>\n",
              "    </tr>\n",
              "    <tr>\n",
              "      <th>-5.806704</th>\n",
              "      <td>1</td>\n",
              "    </tr>\n",
              "  </tbody>\n",
              "</table>\n",
              "</div><br><label><b>dtype:</b> int64</label>"
            ]
          },
          "metadata": {},
          "execution_count": 46
        }
      ]
    },
    {
      "cell_type": "code",
      "source": [
        "\n",
        "test_r2_score= r2_score(y_test, y_pred)\n",
        "test_r2_score"
      ],
      "metadata": {
        "colab": {
          "base_uri": "https://localhost:8080/"
        },
        "id": "X0pn_i6bXlnb",
        "outputId": "3c558fa0-ead0-4096-a0b0-b67fa5d00a6f"
      },
      "execution_count": null,
      "outputs": [
        {
          "output_type": "execute_result",
          "data": {
            "text/plain": [
              "0.9455454484627915"
            ]
          },
          "metadata": {},
          "execution_count": 47
        }
      ]
    },
    {
      "cell_type": "code",
      "source": [
        "test_r2_score= r2_score(y_pred, y_test )\n",
        "test_r2_score"
      ],
      "metadata": {
        "colab": {
          "base_uri": "https://localhost:8080/"
        },
        "id": "vyPcHoUTYGXb",
        "outputId": "12aaf834-bd77-4939-e133-fc778fcc1ec9"
      },
      "execution_count": null,
      "outputs": [
        {
          "output_type": "execute_result",
          "data": {
            "text/plain": [
              "0.9427261150852443"
            ]
          },
          "metadata": {},
          "execution_count": 48
        }
      ]
    },
    {
      "cell_type": "code",
      "source": [],
      "metadata": {
        "id": "gS-L0je2YIqP"
      },
      "execution_count": null,
      "outputs": []
    },
    {
      "cell_type": "markdown",
      "source": [
        " We have converted Car Names into numerical. How to find Car name when Numerical is given?"
      ],
      "metadata": {
        "id": "N2Qd-T-XYeHj"
      }
    },
    {
      "cell_type": "code",
      "source": [
        "# \"suzuki\"\n",
        "\n",
        "{\"Suzuki\":1,\"Maruti\":2.0}\n",
        "## extracted all suzukis, calculated mean selling price and replace"
      ],
      "metadata": {
        "id": "tAybMFG8YemE",
        "colab": {
          "base_uri": "https://localhost:8080/"
        },
        "outputId": "07bf4812-6de5-42d2-ebc4-f12a27bb9080"
      },
      "execution_count": null,
      "outputs": [
        {
          "output_type": "execute_result",
          "data": {
            "text/plain": [
              "{'Suzuki': 1, 'Maruti': 2.0}"
            ]
          },
          "metadata": {},
          "execution_count": 49
        }
      ]
    },
    {
      "cell_type": "markdown",
      "source": [
        "- one hot encoding for brand name replacement"
      ],
      "metadata": {
        "id": "JZJgq-wVY-GJ"
      }
    },
    {
      "cell_type": "code",
      "source": [],
      "metadata": {
        "id": "DsA6kxMIZD9W"
      },
      "execution_count": null,
      "outputs": []
    }
  ]
}